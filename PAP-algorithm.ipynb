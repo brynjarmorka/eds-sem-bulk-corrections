{
 "cells": [
  {
   "attachments": {},
   "cell_type": "markdown",
   "metadata": {},
   "source": [
    "# The PAP algorithm (using the simplified XPP)\n",
    "\n",
    "Pouchou, J.-L., & Pichoir, F. (1991). Quantitative Analysis of Homogeneous or Stratified Microvolumes Applying the Model “PAP.”\n",
    "\n",
    "https://sci-hub.ru/10.1007/978-1-4899-2617-3_4\n",
    "\n"
   ]
  },
  {
   "cell_type": "code",
   "execution_count": null,
   "metadata": {},
   "outputs": [],
   "source": [
    "import hyperspy.api as hs\n",
    "import numpy as np\n",
    "import plotly.graph_objects as go\n",
    "import pandas as pd"
   ]
  },
  {
   "cell_type": "code",
   "execution_count": null,
   "metadata": {},
   "outputs": [],
   "source": [
    "def theoretical_energy(line: str):\n",
    "    \"Takes a X-ray line and gives the energy in keV.\"\n",
    "    element = line.split('_')[0]\n",
    "    line_name = line.split('_')[1]\n",
    "    return hs.material.elements[element]['Atomic_properties']['Xray_lines'][line_name]['energy (keV)']"
   ]
  },
  {
   "cell_type": "markdown",
   "metadata": {},
   "source": [
    "#### Area of $\\phi(\\rho z)$\n",
    "\n",
    "Primary intentisty (PI) = R/S\n",
    "\n",
    "$ F = \\int \\limits_{0}^{\\inf} \\phi(\\rho z)d(\\rho z) = (R/S) \\cdot Q_l^A(E_0)$\n",
    "\n",
    "\n",
    "We use an approximation for the ionization cross-section, and calculate R and 1/S as below.\n"
   ]
  },
  {
   "attachments": {},
   "cell_type": "markdown",
   "metadata": {},
   "source": [
    "# Area F of the distribution $\\phi(\\rho z)$"
   ]
  },
  {
   "attachments": {},
   "cell_type": "markdown",
   "metadata": {},
   "source": [
    "## Deceleation of electrons ( $1/S$ )\n",
    "\n",
    "$ 1 / S = \\int \\limits_{E_0}^{E_l} \\frac{Q_l^A(E)}{dE/d\\rho s} dE$\n",
    "\n",
    "This integral is solved analytically with the equations below.\n",
    "\n",
    "Bethe [10] have a formula for $dE/d\\rho s$, but this is valid for >30 keV. PAP use a formula valid for 1-50 keV:\n",
    "\n",
    "$dE/d\\rho s = -M/J \\cdot 1/f(V)$\n",
    "\n",
    "where\n",
    "\n",
    "\n",
    "\n",
    "- $M = \\sum \\limits_{i} \\frac{C_i Z_i}{A_i}$\n",
    "\n",
    "\n",
    "- $ J = \\exp(\\sum \\limits_{i} \\frac{C_i Z_i}{A_i} \\cdot \\ln(J_i)/M)$\n",
    "    - $J_i = 10^{-3} \\cdot Z_i (10.04 + 8.25 \\exp(\\frac{-Z_i}{11.22}))$\n",
    "\n",
    "\n",
    "- $ f(V) = \\sum \\limits_{k=1}^{3} D_k \\cdot V^{P_k}$\n",
    "\n",
    "    - $ V = \\frac{E}{J}$\n",
    "    - $D_1 = 6.6 \\cdot 10^{-6}$\n",
    "    - $P_1 = 0.78$\n",
    "    - $D_2 = 1.12 \\cdot 10^{-5}(1.35 - 0.45 J^2)$\n",
    "    - $P_2 = 0.1$\n",
    "    - $D_3 = \\frac{2.2 \\cdot 10^{-6}}{J}$\n",
    "    - $P_3 = -(0.5-0.25J)$\n",
    "    \n",
    "i.e.\n",
    "\n",
    "- $f(V) = 6.6 \\cdot 10^{-6}\\cdot V^{0.78} + \\\\ \n",
    "1.12\\cdot 10^{-5}\\cdot (1.35 - 0.45 J^2) \\cdot V^{0.1} + \\\\\n",
    "\\frac{2.2 \\cdot 10^{-6}}{J} \\cdot V^{-(0.5-0.25J)}$\n",
    "\n",
    "\n",
    "Calculate M, then J, then f(V) and then $dE/d\\rho s$"
   ]
  },
  {
   "attachments": {},
   "cell_type": "markdown",
   "metadata": {},
   "source": [
    "- $dE/d\\rho s$ in keV cm^2/g\n",
    "- Ci is concentration of element i in the sample\n",
    "- Zi is the atomic number of element i\n",
    "- Ai is the atomic weight of element i \n",
    "    - I do not remember what i meant my this: \"(OBS! somehow PAP ends with kV*cm^2/g, and not cm^3)\"\n",
    "- J is the mean ionization potential of the sample\n",
    "- V is E/J, in keV\n",
    "- M is the mean atomic mass of the sample, in g/cm^3"
   ]
  },
  {
   "cell_type": "code",
   "execution_count": null,
   "metadata": {},
   "outputs": [],
   "source": [
    "# constants are calculated once\n",
    "# list are list of const\n",
    "# the \"*\" argument forces the user to use the keyword argument"
   ]
  },
  {
   "cell_type": "code",
   "execution_count": null,
   "metadata": {},
   "outputs": [],
   "source": [
    "def calculate_dE_drhos(*, m: float, j: float, f_of_v: float):\n",
    "    \"\"\"Calculate the deceleration of the electron beam, dE/d rho s.\n",
    "    Does the calculation for a single energy value.\"\"\"\n",
    "    return m / j / f_of_v\n",
    "#   the PAP paper have a minus, but my plot is inversed with the minus\n",
    "#   return (- m / j / f_of_v)"
   ]
  },
  {
   "cell_type": "code",
   "execution_count": null,
   "metadata": {},
   "outputs": [],
   "source": [
    "def calculate_f_of_v(*, e: float, j: float):\n",
    "    \"\"\"Calculate the function f(v) = f(e/v) of the PAP algorithm.\n",
    "    e: energy of the electron beam\n",
    "    j: mean ionization potential of the material\"\"\"\n",
    "    v = e / j\n",
    "    return (6.6e-6 * v**0.78 + \n",
    "            1.12e-5 * (1.35 - 0.45 * j**2) * v**0.1 + \n",
    "            2.2e-6 / j * v**(-0.5 + 0.25 * j))"
   ]
  },
  {
   "cell_type": "code",
   "execution_count": null,
   "metadata": {},
   "outputs": [],
   "source": [
    "def calculate_m(*, list_C: list, list_Z: list, list_A: list):\n",
    "    \"\"\"Calculate the mean atomic mass of the material, from the lists of atomic info\"\"\"\n",
    "    # $M = \\sum \\limits_{i} \\frac{C_i Z_i}{A_i}$\n",
    "    m = 0\n",
    "    for i in range(len(list_C)):\n",
    "        m += list_C[i] * list_Z[i] / list_A[i]\n",
    "    return m"
   ]
  },
  {
   "cell_type": "code",
   "execution_count": null,
   "metadata": {},
   "outputs": [],
   "source": [
    "def calculate_j_i(*,z_i: float):\n",
    "    \"\"\"Calculate the ionization potential of one element, j_i\"\"\"\n",
    "    # $J_i = 10^{-3} \\cdot Z_i (10.04 + 8.25 \\exp(\\frac{-Z_i}{11.22}))$\n",
    "    return z_i * 1e-3 * (10.04 + 8.25 * np.exp(-z_i / 11.22))\n",
    "\n",
    "def calculate_mean_j(*, list_C: list, list_Z: list, list_A: list):\n",
    "    \"\"\"Calculate the mean ionization potential of the material, J\"\"\"\n",
    "    # $ J = \\exp(\\sum \\limits_{i} \\frac{C_i Z_i}{A_i} \\cdot \\ln(J_i)/M)$\n",
    "    list_Ji = []\n",
    "    for z in list_Z:\n",
    "        list_Ji.append(calculate_j_i(z_i=z))\n",
    "    m = calculate_m(list_C=list_C, list_Z=list_Z, list_A=list_A)\n",
    "    j = 0\n",
    "    for i in range(len(list_C)):\n",
    "        j += list_C[i] * list_Z[i] / list_A[i] * np.log(list_Ji[i]) / m\n",
    "    return np.exp(j)"
   ]
  },
  {
   "cell_type": "code",
   "execution_count": null,
   "metadata": {},
   "outputs": [],
   "source": [
    "# putting it together to calculate dE/d rho s for a list of elements at a given energy\n",
    "def calculate_dE_drhos_whole(*, list_C: list, list_Z: list, list_A: list, e: float):\n",
    "    \"\"\"Calculate dE/d rho s for a list of elements at a given energy\"\"\"\n",
    "    # $dE/d \\rho s = \\frac{m}{J} \\cdot \\frac{1}{f(e/v)}$\n",
    "    m = calculate_m(list_C=list_C, list_Z=list_Z, list_A=list_A)\n",
    "    j = calculate_mean_j(list_C=list_C, list_Z=list_Z, list_A=list_A)\n",
    "    f_of_v = calculate_f_of_v(e=e, j=j)\n",
    "    return calculate_dE_drhos(m=m, j=j, f_of_v=f_of_v)"
   ]
  },
  {
   "cell_type": "code",
   "execution_count": null,
   "metadata": {},
   "outputs": [],
   "source": [
    "def test_dE_drhos(elements: list, concentrations: list, energy: float = None, energies: list = None):\n",
    "    \"\"\"Calculate dE/d rho s for a list of elements at a given energy or a list of energies\"\"\"\n",
    "    list_C = concentrations\n",
    "    list_Z = []\n",
    "    list_A = []\n",
    "    for element in elements:\n",
    "        list_Z.append(hs.material.elements[element].General_properties['Z'])\n",
    "        list_A.append(hs.material.elements[element].Physical_properties['density (g/cm^3)'])\n",
    "    m = calculate_m(list_C=list_C, list_Z=list_Z, list_A=list_A)\n",
    "    j = calculate_mean_j(list_C=list_C, list_Z=list_Z, list_A=list_A)\n",
    "\n",
    "    print(\"Element\\t\\tZ\\tA\\tC\")\n",
    "    elements_info = ''\n",
    "    for i in range(len(elements)):\n",
    "        elements_info += f\"{elements[i]}\\t\\t{list_Z[i]}\\t{list_A[i]}\\t{list_C[i]}\\n\"\n",
    "    print(elements_info)\n",
    "    print(f\"M = {m:.4e}, J = {j:.4e}\")\n",
    "\n",
    "    if energy is not None:\n",
    "        f_of_v = calculate_f_of_v(e=energy, j=j)\n",
    "        return calculate_dE_drhos(m=m, j=j, f_of_v=f_of_v)\n",
    "    elif energies is not None:\n",
    "        f_of_v = [calculate_f_of_v(e=e, j=j) for e in energies]\n",
    "        dE_drhos = np.array([calculate_dE_drhos(m=m, j=j, f_of_v=f) for f in f_of_v])\n",
    "        return dE_drhos\n",
    "    else:\n",
    "        print(\"Please provide an energy (energy) or a list of energies (energies)\")"
   ]
  },
  {
   "cell_type": "code",
   "execution_count": null,
   "metadata": {},
   "outputs": [],
   "source": [
    "# testing on GaAs\n",
    "elements = ['Ga','As']\n",
    "list_C = [.5,.5]\n",
    "energies = np.linspace(0.01, 50, 10000)\n",
    "de_drhos = test_dE_drhos(elements=elements, concentrations=list_C, energies=energies)\n",
    "\n",
    "elements = ['Ga','Sb']\n",
    "list_C = [.5,.5]\n",
    "energies = np.linspace(0.01, 50, 10000)\n",
    "de_drhos2 = test_dE_drhos(elements=elements, concentrations=list_C, energies=energies)\n"
   ]
  },
  {
   "cell_type": "code",
   "execution_count": null,
   "metadata": {},
   "outputs": [],
   "source": [
    "fig = go.Figure()\n",
    "fig.update_layout(font=dict(family=\"EB Garamond SemiBold\", size=16, color=\"black\"))\n",
    "fig.add_trace(go.Scatter(x=energies, y=de_drhos2, name='GaSb'))\n",
    "fig.add_trace(go.Scatter(x=energies, y=de_drhos, name='GaAs'))\n",
    "\n",
    "fig.update_layout(xaxis_title=\"Energy [keV]\", #title=\"dE/d\\u03C1s for electrons in GaAs\", \n",
    "                  yaxis_title=\"dE/d\\u03C1s [keV cm<sup>2</sup>/g]\",\n",
    "                  margin=dict(l=5, r=5, b=5, t=5), width=800, height=400,\n",
    "                  legend=dict(x=0.995, y=0.99, xanchor='right',))\n",
    "fig.update_xaxes(type=\"log\")\n",
    "\n",
    "# fig.write_image('../mastersthesis/figures/PAP_deceleration_of_electrons.pdf')"
   ]
  },
  {
   "cell_type": "code",
   "execution_count": null,
   "metadata": {},
   "outputs": [],
   "source": []
  },
  {
   "attachments": {},
   "cell_type": "markdown",
   "metadata": {},
   "source": [
    "#### Stopping power through ionization cross section\n",
    "\n",
    "expressions that were proposed are generally too mathematically complex to allow for an\n",
    "analytical calculation of the integral (3). A satisfactory way of varying the cross section\n",
    "with U is obtained with the expression proposed by Hutchins [23]:"
   ]
  },
  {
   "attachments": {},
   "cell_type": "markdown",
   "metadata": {},
   "source": [
    "$ Q_l^A(U) \\propto ln(U) / (U^m \\cdot E_c^2)$\n",
    "\n",
    "- with $ U = E/E_c $ as the overvoltage, where $E_c$ is the critical ionization energy.\n",
    "- m is a constant dependent on the line type (K, L or M)\n",
    "    - K-lines: m = 0.9, as suggested by Bastin (1998, PROZA96)\n",
    "    - L-lines: m = 0.82\n",
    "    - M-lines: m = 0.78"
   ]
  },
  {
   "attachments": {},
   "cell_type": "markdown",
   "metadata": {},
   "source": [
    "*Bastin, Dijkstra and Heijligers (1998) improved the m-coefficient in the Q-equation. They have other numbers for C, N and O, which have low Z.\n",
    "\n",
    "https://analyticalsciencejournals.onlinelibrary.wiley.com/doi/pdf/10.1002/%28SICI%291097-4539%28199801/02%2927%3A1%3C3%3A%3AAID-XRS227%3E3.0.CO%3B2-L"
   ]
  },
  {
   "cell_type": "code",
   "execution_count": null,
   "metadata": {},
   "outputs": [],
   "source": [
    "def q_ionization_cross_section(*, e0: float, e_c: float, m_small: float):\n",
    "    \"\"\"Gives the ionization cross section for a given e0, e_c, and m_small\n",
    "    Q = ln(U)/(u^m * e_c^2)\"\"\"\n",
    "    u = e0 / e_c\n",
    "    return np.exp(np.log(u) / (u**m_small * e_c**2))\n",
    "\n",
    "def q_ionization_cross_section_2(*, e0: float, line: str):\n",
    "    \"\"\"Gives the Q for a given e0 and line\"\"\"\n",
    "    e_c = theoretical_energy(line=line)\n",
    "    line_type = line.split('_')[1][0]\n",
    "    if line_type == 'K':\n",
    "        m_small = 0.9\n",
    "    elif line_type == 'L':\n",
    "        m_small = 0.82\n",
    "    else:\n",
    "        raise ValueError(f'Line type {line_type} in {line} not supported.')\n",
    "    u = e0 / e_c\n",
    "    return np.exp(np.log(u) / (u**m_small * e_c**2))"
   ]
  },
  {
   "attachments": {},
   "cell_type": "markdown",
   "metadata": {},
   "source": [
    "$ 1/S = \\int \\limits_{E_0}^{E_C} (Q_C^A(E) \\frac{dE}{d\\rho s}) dE $\n",
    "\n",
    "Using\n",
    "\n",
    "$ T_k = 1 + P_k - m $ in \n",
    "\n",
    "$ 1/S = \\frac{U_0}{V_0 \\cdot M} \\sum \\limits_{k=1}^{3} D_k \\cdot (V_0/U_0)^{P_k} \\cdot ((T_k)U_0^{T_k} \\cdot \\ln(U_0)-U_0^{T_k}+1)/T_k^2 $\n",
    "\n",
    "\n",
    "Which translates to\n",
    "\n",
    "$1/S = \\frac{U_O}{V_0 \\cdot M} \\cdot \\\\\n",
    "(6.6 \\cdot 10^{-6} (V_0/U_0)^{0.78} \\cdot ((1+0.78-m)U_0^{1+0.78-m} \\cdot \\ln(U_0)-U_0^{1+0.78-m}+1)/(1+0.78-m)^2) + \\\\\n",
    "((1.12 \\cdot 10^{-5}(1.35-0.45J^2)) (V_0/U_0)^{0.1} \\cdot ((1+0.1-m)U_0^{1+0.1-m} \\cdot \\ln(U_0)-U_0^{1+0.1-m}+1)/(1+0.1-m)^2) + \\\\\n",
    "(2.2 \\cdot 10^{-6}/J (V_0/U_0)^{(-0.5 +0.25J)} \\cdot ((1+(-0.5 +0.25J)-m)U_0^{1+(-0.5 +0.25J)-m} \\cdot \\ln(U_0)-U_0^{1+(-0.5 +0.25J)-m}+1)/(1+(-0.5 +0.25J)-m)^2)\n",
    "$"
   ]
  },
  {
   "cell_type": "code",
   "execution_count": null,
   "metadata": {},
   "outputs": [],
   "source": [
    "# m_big is the mean atomic mass M\n",
    "# m is the m in $T_k = 1+ P_k - m$\n",
    "def calculate_one_over_S(*, u0: float, e_c: float, j: float, m_big: float, m_small: float):\n",
    "    \"\"\" Calculates 1/S for a given energy and material\n",
    "    \n",
    "    Parameters\n",
    "    ----------\n",
    "    u0 : float\n",
    "        Overvoltage\n",
    "    e_c : float\n",
    "        Critical ioniztion energy\n",
    "    j : float\n",
    "        Mean ionization potential\n",
    "    m_big : float\n",
    "        Mean atomic mass\n",
    "    m : float\n",
    "        K-, L-, or M-shell constant (0.9, 0.82, or 0.78)\n",
    "    \"\"\"\n",
    "    v0 = e_c / u0\n",
    "    return (u0/(v0 * m_big) * (\n",
    "            # (6.6  10^{-6} (V_0/U_0)^{0.78}  ((1+0.78-m_small)U_0^{1+0.78-m}  \\ln(U_0)-U_0^{1+0.78-m}+1)/(1+0.78-m_small)^2) + \\\\\n",
    "            6.6e-6 * (v0/u0)**.78 * ((1+.78-m_small)*u0**(1+.78-m_small) * np.log(u0) - u0**(1+.78-m_small) + 1) / (1+.78-m_small)**2 + \n",
    "            # ((1.12  10^{-5}(1.35-0.45J^2)) (V_0/U_0)^{0.1}  ((1+0.1-m_small)U_0^{1+0.1-m}  \\ln(U_0)-U_0^{1+0.1-m}+1)/(1+0.1-m_small)^2) + \\\\\n",
    "            (1.12e-5 * (1.35-0.45*j**2)) * (v0/u0)**.1 * ((1+.1-m_small)*u0**(1+.1-m_small) * np.log(u0) - u0**(1+.1-m_small) + 1) / (1+.1-m_small)**2 +\n",
    "            # (2.2  10^{-6}/J (V_0/U_0)^{(-0.5 +0.25J)}  ((1+(-0.5 +0.25J)-m_small)U_0^{1+(-0.5 +0.25J)-m}  \\ln(U_0)-U_0^{1+(-0.5 +0.25J)-m}+1)/(1+(-0.5 +0.25J)-m_small)^2)\n",
    "            (2.2e-6/j) * (v0/u0)**(-.5 + 0.25*j) * ((1+(-.5 + 0.25*j)-m_small)*u0**(1+(-.5 + 0.25*j)-m_small) * np.log(u0) - u0**(1+(-.5 + 0.25*j)-m_small) + 1) / (1+(-.5 + 0.25*j)-m_small)**2 \n",
    "            ))"
   ]
  },
  {
   "cell_type": "code",
   "execution_count": null,
   "metadata": {},
   "outputs": [],
   "source": [
    "def get_C_A_Z_lists(elements: list, concentrations: list):\n",
    "    \"\"\"Returns a list of C, A, and Z for a list of elements and concentrations\"\"\"\n",
    "    list_C = concentrations\n",
    "    list_Z = []\n",
    "    list_A = []\n",
    "    for element in elements:\n",
    "        list_Z.append(hs.material.elements[element].General_properties['Z'])\n",
    "        list_A.append(hs.material.elements[element].Physical_properties['density (g/cm^3)'])\n",
    "    return list_C, list_A, list_Z"
   ]
  },
  {
   "cell_type": "code",
   "execution_count": null,
   "metadata": {},
   "outputs": [],
   "source": [
    "##### Examples for 1/S\n",
    "# GaAs, Ga_La with e_c = 1.1 keV, e0 = 15 keV\n",
    "list_C, list_A, list_Z = get_C_A_Z_lists(elements=['Ga','As'], concentrations=[.5,.5])\n",
    "m_big = calculate_m(list_C=list_C, list_Z=list_Z, list_A=list_A)\n",
    "j = calculate_mean_j(list_C=list_C, list_Z=list_Z, list_A=list_A)\n",
    "print(\"1/S : \", calculate_one_over_S(u0=15, e_c=1.1, j=j, m_big=m_big, m_small=0.82))\n"
   ]
  },
  {
   "attachments": {},
   "cell_type": "markdown",
   "metadata": {},
   "source": [
    "## Backscatter Loss Factor R, Appendix 1 in PAP\n",
    "\n",
    "\n",
    "$ R = 1- \\bar{\\eta}  \\cdot \\bar{W} \\cdot (1-G(U_0)) $\n",
    "\n",
    "where\n",
    "\n",
    "- $ \\bar{W} = \\bar{E}_r/E_0 = 0.595 + \\bar{\\eta}/3.7 + \\bar{\\eta}^{4.55} $\n",
    "\n",
    "- $ \\bar{\\eta} = 1.75 \\cdot 10^{-3} \\cdot \\bar{Z}_b + 0.37(1-\\exp(-0.015\\bar{Z}_b^{1.3})) $\n",
    "\n",
    "- $\\bar{Z}_b = (\\sum C_i \\cdot Z_i^{0.5})^2$\n",
    "\n",
    "- $ G(U_0) = (U_0 - 1 - (1- \\frac{1}{U_0^{1+q}})/(1+q)) / ((2+q)\\cdot J(U_0))$\n",
    "\n",
    "- $ J(U_0) = 1 + U_0 \\cdot (\\ln(U_0)-1) $\n",
    "\n",
    "- $ q = (2 \\bar{W} - 1) / (1 - \\bar{W}) $\n",
    "\n",
    "\n"
   ]
  },
  {
   "attachments": {},
   "cell_type": "markdown",
   "metadata": {},
   "source": [
    "- R is the backscatter loss factor\n",
    "- $\\bar{\\eta}$ is the mean backscattering coefficient\n",
    "- $\\bar{W}$ is \n",
    "- $\\bar{Z}_b$ is the mean atomic number of the backscattered electrons, weighted\n",
    "- $G(U_0)$ is from Coulon and Zeller (28)\n",
    "- $U_0$ is the overvoltage, $E_0/E_c$"
   ]
  },
  {
   "cell_type": "code",
   "execution_count": null,
   "metadata": {},
   "outputs": [],
   "source": [
    "def calculate_W(*, eta: float):\n",
    "    return 0.595 + eta / 3.7 + eta**4.55\n",
    "\n",
    "def calculate_eta(*, zb: float):\n",
    "    return 1.75e-3 * zb + 0.37 * (1 - np.exp(-0.015 * zb**1.3))\n",
    "\n",
    "def calculate_zb(*, list_C: list, list_Z: list):\n",
    "    sum_Zb = 0\n",
    "    for i in range(len(list_C)):\n",
    "        sum_Zb += list_C[i] * list_Z[i]**0.5\n",
    "    return sum_Zb**2\n",
    "\n",
    "def calculate_j_of_u0(*, u0: float):\n",
    "    return 1 + u0 * (np.log(u0) - 1)\n",
    "\n",
    "def calculate_q(*, w: float):\n",
    "    return (2 * w - 1) / (1 - w)\n",
    "\n",
    "def calculate_g_of_u0(*, u0: float, j: float, q: float):\n",
    "    return (u0 - 1 - (1 - 1 / u0**(1 + q)) / (1 + q)) / ((2 + q) * j)"
   ]
  },
  {
   "cell_type": "code",
   "execution_count": null,
   "metadata": {},
   "outputs": [],
   "source": [
    "# $ R = 1- \\bar{\\eta}  \\cdot \\bar{W} \\cdot (1-G(U_0)) $\n",
    "def calculate_R(*, u0: float, list_C: list, list_Z: list):\n",
    "    zb = calculate_zb(list_C=list_C, list_Z=list_Z)\n",
    "    eta = calculate_eta(zb=zb)\n",
    "    w = calculate_W(eta=eta)\n",
    "    j = calculate_j_of_u0(u0=u0)\n",
    "    q = calculate_q(w=w)\n",
    "    g = calculate_g_of_u0(u0=u0, j=j, q=q)\n",
    "    return 1 - eta * w * (1 - g)"
   ]
  },
  {
   "cell_type": "code",
   "execution_count": null,
   "metadata": {},
   "outputs": [],
   "source": [
    "# calculate R for all Z\n",
    "list_U = [1.1, 1.3, 1.5, 2, 3, 5, 20]\n",
    "list_all_Z = np.arange(1,90)\n",
    "list_all_A = np.ones_like(list_all_Z)\n",
    "list_all_R = []\n",
    "for z in list_all_Z:\n",
    "    list_C = [1]\n",
    "    list_Z = [z]\n",
    "    list_R = []\n",
    "    for u in list_U:\n",
    "        list_R.append(calculate_R(u0=u, list_C=list_C, list_Z=list_Z))\n",
    "    list_all_R.append(list_R)    \n",
    "list_all_R = np.array(list_all_R)\n",
    "\n",
    "# plot R for all Z\n",
    "fig = go.Figure()\n",
    "fig.update_layout(font=dict(family=\"EB Garamond SemiBold\", size=16, color=\"black\"))\n",
    "\n",
    "for i, u0 in enumerate(list_U):\n",
    "    fig.add_trace(go.Scatter(x=list_all_Z, y=list_all_R[:,i], name=f\"U<sub>0</sub>={u0}\"))\n",
    "\n",
    "fig.update_layout(xaxis_title=\"Z\", yaxis_title=\"Backscattering factor R\") \n",
    "# title=\"Backscatter factor R for different Z with the PAP model\", \n",
    "# tight layout\n",
    "fig.update_layout(margin=dict(l=5, r=5, b=5, t=5), width=800, height=400)\n",
    "\n",
    "# fig.write_image('../mastersthesis/figures/PAP_backscattering_factor.pdf')\n",
    "\n",
    "fig"
   ]
  },
  {
   "cell_type": "code",
   "execution_count": null,
   "metadata": {},
   "outputs": [],
   "source": []
  },
  {
   "cell_type": "code",
   "execution_count": null,
   "metadata": {},
   "outputs": [],
   "source": [
    "# test on GaAs, Ga_La with e_c = 1.1 keV, e0 = 15 keV\n",
    "list_C, list_A, list_Z = get_C_A_Z_lists(elements=['Ga','As'], concentrations=[.5,.5])\n",
    "e_c = hs.material.elements['Ga'].Atomic_properties.Xray_lines.La['energy (keV)']\n",
    "e0 = 15\n",
    "u = e0 / e_c\n",
    "j = calculate_mean_j(list_C=list_C, list_Z=list_Z, list_A=list_A)\n",
    "m_big = calculate_m(list_C=list_C, list_Z=list_Z, list_A=list_A)\n",
    "m = 0.82\n",
    "\n",
    "one_over_s = calculate_one_over_S(u0=u, e_c=e_c, j=j, m_big=m_big, m_small=m)\n",
    "r = calculate_R(u0=u, list_C=list_C, list_Z=list_Z)\n",
    "\n",
    "print(\"1/S : \", one_over_s)\n",
    "print(\"R : \", r)\n",
    "print(\"1/S * R : \", one_over_s * r)"
   ]
  },
  {
   "cell_type": "code",
   "execution_count": null,
   "metadata": {},
   "outputs": [],
   "source": [
    "e0_list = [5, 10, 15, 30]\n",
    "print(\"e0\\t\\t1/S\\t\\t\\tR\\t\\t\\tR/S\\t\\t\\tQ(E)\\t\\t\\tR/S * Q(E)\")\n",
    "for e00 in e0_list:\n",
    "    u = e00 / e_c\n",
    "    one_over_s = calculate_one_over_S(u0=u, e_c=e_c, j=j, m_big=m_big, m_small=m)\n",
    "    r = calculate_R(u0=u, list_C=list_C, list_Z=list_Z)\n",
    "    q = q_ionization_cross_section(e0=e00, e_c=e_c, m_small=m)\n",
    "    # print(f\"e0 = {e00} keV, 1/S * R = {(one_over_s * r):.2e}, R/S * Q(E) = {r * one_over_s * q}\")\n",
    "    print(f\"{e00}\\t\\t{one_over_s:.2e}\\t\\t{r:.2e}\\t\\t{(one_over_s * r):.2e}\\t\\t{q:.2e}\\t\\t{(one_over_s * r * q):.2e}\")"
   ]
  },
  {
   "cell_type": "code",
   "execution_count": null,
   "metadata": {},
   "outputs": [],
   "source": []
  },
  {
   "cell_type": "markdown",
   "metadata": {},
   "source": [
    "The average number of primary ionizations due to an electron of initial energy E0 at\n",
    "the level/ of the atoms A is commonly expressed by means of a deceleration factor liS and\n",
    "a backscatter factor R"
   ]
  },
  {
   "attachments": {},
   "cell_type": "markdown",
   "metadata": {},
   "source": [
    "$n_A = C_A \\cdot \\frac{N^0}{A} \\cdot \\frac{R}{S} $\n",
    "\n",
    "This is PER ELECTRON. Then I think N^0 cancel out, and I need C_A, A, R, and S (i.e. do not need the current)."
   ]
  },
  {
   "cell_type": "code",
   "execution_count": null,
   "metadata": {},
   "outputs": [],
   "source": []
  },
  {
   "cell_type": "code",
   "execution_count": null,
   "metadata": {},
   "outputs": [],
   "source": [
    "m_k = 0.9\n",
    "m_l = 0.82\n",
    "e0_max = 30\n",
    "\n",
    "def add_line(fig, e_c, name, m):\n",
    "    e0_list = np.arange(e_c, e0_max, 0.01)\n",
    "    u_list = e0_list / e_c\n",
    "    q_list = [q_ionization_cross_section(e0=e0, e_c=e_c, m_small=m) for e0 in e0_list]\n",
    "    print('max q =', round(max(q_list),3), ' at U0 =' , u_list[q_list.index(max(q_list))], \n",
    "    ' at E =', e0_list[q_list.index(max(q_list))])\n",
    "    fig.add_trace(go.Scatter(x=u_list, y=q_list, name=f'{name}, E<sub>C</sub>{e_c:.2f} keV'))\n",
    "\n",
    "fig = go.Figure()\n",
    "fig.update_layout(font=dict(family=\"EB Garamond SemiBold\", size=16, color=\"black\"))\n",
    "add_line(fig, theoretical_energy('Ga_La'), 'Ga L\\u03B1', m_l)\n",
    "# add_line(fig, theoretical_energy('Ga_Ka'), 'Ga_Ka', m_k)\n",
    "add_line(fig, theoretical_energy('As_La'), 'As L\\u03B1', m_l)\n",
    "# add_line(fig, theoretical_energy('As_Ka'), 'As_Ka', m_k)\n",
    "# add_line(fig, theoretical_energy('Sb_La'), 'Sb_La', m_l)\n",
    "# title='Ionization cross section as a function of overvolatge',\n",
    "fig.update_layout( xaxis_title='U = E<sub>0</sub>/E<sub>c</sub>', yaxis_title='Q(U)',\n",
    "                  margin=dict(l=5, r=5, b=5, t=5), width=800, height=400,\n",
    "                  legend=dict(x=0.995, y=0.99, xanchor='right',),\n",
    "                  xaxis_range=[-0.1, 25])\n",
    "\n",
    "# Annotate \"Max Q = 1.45 at U = 3.38, i.e. E = 3.72 keV for Ga La\"\n",
    "fig.add_annotation(x=3.38, y=1.45, text=\"Max Q(U=3.38) = 1.45, i.e. E = 3.72 keV\", ax=300, ay=0)\n",
    "fig.add_annotation(x=3.38, y=1.314, text=\"Max Q(U=3.38) = 1.31, i.e. E = 4.34 keV\", ax=250, ay=130)\n",
    "\n",
    "# fig.write_image('../mastersthesis/figures/PAP_ionization_cross_section.pdf')\n",
    "\n",
    "\n",
    "fig "
   ]
  },
  {
   "attachments": {},
   "cell_type": "markdown",
   "metadata": {},
   "source": [
    "## Calculating F\n",
    "\n",
    "$ F = (R/S) \\cdot Q_l^A(E_0) $\n"
   ]
  },
  {
   "cell_type": "code",
   "execution_count": null,
   "metadata": {},
   "outputs": [],
   "source": [
    "def calculate_F(*, elements: list, line: str, concentrations: list, e0: float):\n",
    "    list_C, list_A, list_Z = get_C_A_Z_lists(elements=elements, concentrations=concentrations)\n",
    "    e_c = theoretical_energy(line=line)\n",
    "    line_type = line.split('_')[1][0]\n",
    "    if line_type == 'K':\n",
    "        m_small = 0.9\n",
    "    elif line_type == 'L':\n",
    "        m_small = 0.82\n",
    "    else:\n",
    "        raise ValueError(f'Line type {line_type} in {line} not supported.')\n",
    "    u = e0 / e_c\n",
    "    j = calculate_mean_j(list_C=list_C, list_Z=list_Z, list_A=list_A)\n",
    "    m_big = calculate_m(list_C=list_C, list_Z=list_Z, list_A=list_A)\n",
    "    s_inv = calculate_one_over_S(u0=u, e_c=e_c, j=j, m_big=m_big, m_small=m_small)\n",
    "    r = calculate_R(u0=u, list_C=list_C, list_Z=list_Z)\n",
    "    q = q_ionization_cross_section(e0=e0, e_c=e_c, m_small=m_small)\n",
    "\n",
    "    return r*s_inv*q\n",
    "\n",
    "\n",
    "\n",
    "print('F Ga_La: ' , calculate_F(elements=['Ga','As'], line='Ga_La', concentrations=[.5,.5], e0=15))\n",
    "print('F As_La: ' , calculate_F(elements=['Ga','As'], line='As_La', concentrations=[.5,.5], e0=15))\n"
   ]
  },
  {
   "cell_type": "code",
   "execution_count": null,
   "metadata": {},
   "outputs": [],
   "source": [
    "103207.0 / 0.005740332662198292"
   ]
  },
  {
   "cell_type": "code",
   "execution_count": null,
   "metadata": {},
   "outputs": [],
   "source": [
    "61699.0 / 0.0027206947358069536"
   ]
  },
  {
   "cell_type": "markdown",
   "metadata": {},
   "source": [
    "## Surface ionization $\\phi(0)$"
   ]
  },
  {
   "attachments": {},
   "cell_type": "markdown",
   "metadata": {},
   "source": [
    "$\\phi(0) = 1 + 3.3 (1-1/U_0^r)* \\bar{\\eta}^{1.2} $\n",
    "\n",
    "with $ r = 2 - 2.3 \\bar{\\eta} $\n",
    "\n",
    "(The exponent $\\bar{\\eta}^{1.2}$ kinda looks like $\\bar{\\eta}^{1 \\cdot 2}$, but it is 1.2 that gives the same values as the plot in figure 24.)"
   ]
  },
  {
   "cell_type": "code",
   "execution_count": null,
   "metadata": {},
   "outputs": [],
   "source": [
    "def phi_zero__surface_ionization(*, u: float, eta:float):\n",
    "    return 1 + 3.3 * (1-1 / (u**(2 - 2.3 * eta))) * eta**1.2\n",
    "\n",
    "# alternatively\n",
    "def phi_zero__surface_ionization_2(*, e0: float, e_c: float, list_C: list, list_Z: list):\n",
    "    zb = calculate_zb(list_C=list_C, list_Z=list_Z)\n",
    "    eta = calculate_eta(zb=zb)\n",
    "    u = e0 / e_c\n",
    "    return 1 + 3.3 * (1 - 1 / (u**(2 - 2.3 * eta))) * eta**1.2"
   ]
  },
  {
   "cell_type": "code",
   "execution_count": null,
   "metadata": {},
   "outputs": [],
   "source": [
    "def plot_phi_zero():\n",
    "    # remaking plot 24 from the paper\n",
    "    # use the second function\n",
    "    e0_list = [1.1, 1.3, 1.5, 2, 3, 5, 20, 100]\n",
    "    e_c = 1 # one to get the overvoltages in the paper\n",
    "    all_z = np.arange(1, 90, 1)\n",
    "    list_C = [1]\n",
    "    fig = go.Figure()\n",
    "    for e0 in e0_list:\n",
    "        y = [phi_zero__surface_ionization_2(e0=e0, e_c=e_c, list_C=list_C, list_Z=[z]) for z in all_z]\n",
    "        fig.add_trace(go.Scatter(x=all_z, y=y, name=f'{e0}'))\n",
    "    return fig\n",
    "\n",
    "fig = plot_phi_zero()\n",
    "fig.update_layout(title='Surface ionization potential, \\u03C6(0)', \n",
    "                    xaxis_title='Z', yaxis_title='\\u03C6(0)',\n",
    "                    margin=dict(l=5, r=5, b=5, t=50), width=600, height=400,\n",
    "                    legend=dict(traceorder='reversed', title='Overvoltage'))\n",
    "\n",
    "fig\n"
   ]
  },
  {
   "attachments": {},
   "cell_type": "markdown",
   "metadata": {},
   "source": [
    "# Mean depth of ionization, $\\bar{R}$\n",
    "\n",
    "Equation 28 in PAP\n",
    "\n",
    "$ F / \\bar{R} = 1 + [X \\cdot \\ln(1 + Y \\cdot (1 - 1/U_0^{0.42}))]/\\ln(1 + Y) $\n",
    "\n",
    "where\n",
    "\n",
    "- $ X = 1 + 1.3 \\ln(\\bar{Z}_b) $\n",
    "- $ Y = 0.2 + \\bar{Z}_b/200 $\n",
    "\n",
    "\n",
    "i.e.\n",
    "\n",
    "$ \\bar{R} = F / (1 + [X \\cdot \\ln(1 + Y \\cdot (1 - 1/U_0^{0.42}))]/\\ln(1 + Y)) $"
   ]
  },
  {
   "cell_type": "code",
   "execution_count": null,
   "metadata": {},
   "outputs": [],
   "source": [
    "def r_bar__average_depth_of_ionization(*, f: float, u: float, z_b: float):\n",
    "    x = 1 + 1.3 * np.log(z_b)\n",
    "    y = 0.2 + z_b/200\n",
    "    # $ \\bar{R} = F / (1 + [X \\cdot \\ln(1 + Y \\cdot (1 - 1/U_0^{0.42}))]/\\ln(1 + Y)) $\n",
    "    return f / (1 + (x * np.log(1 + y * (1 - 1/u**0.42))) / np.log(1 + y))"
   ]
  },
  {
   "cell_type": "code",
   "execution_count": null,
   "metadata": {},
   "outputs": [],
   "source": [
    "list_C, list_A, list_Z = get_C_A_Z_lists(elements=['Ga','As'], concentrations=[.5,.5])\n",
    "f = calculate_F(elements=['Ga','As'], line='Ga_La', concentrations=list_C, e0=15)\n",
    "zb = calculate_zb(list_C=list_C, list_Z=list_Z)\n",
    "r_bar = r_bar__average_depth_of_ionization(f=f, u=15/theoretical_energy('Ga_La'), z_b=zb)\n",
    "\n",
    "print(f'Average depth of ionization: {r_bar:.2e}')\n",
    "print('As of now i do not know the units of this value. \\nHowever, its scales nicely with E0')"
   ]
  },
  {
   "cell_type": "code",
   "execution_count": null,
   "metadata": {},
   "outputs": [],
   "source": [
    "f/r_bar"
   ]
  },
  {
   "attachments": {},
   "cell_type": "markdown",
   "metadata": {},
   "source": [
    "## adjustments for high $\\bar{R}$\n",
    "\n",
    "\"If $ F/\\bar{R} < \\phi(0) $, then $ \\bar{R} = F/\\phi(0) $\""
   ]
  },
  {
   "attachments": {},
   "cell_type": "markdown",
   "metadata": {},
   "source": [
    "# Initial slope $P$\n",
    "\n",
    "equation 29\n",
    "\n",
    "\n",
    "$ P = g \\cdot h^4 \\cdot F/\\bar{R}^2 $\n",
    "\n",
    "where\n",
    "\n",
    "- $ g = 0.22 \\ln(4 \\bar{Z}_b) \\cdot [1 - 2 \\exp(-\\bar{Z}_b \\frac{U_0 - 1}{15})] $\n",
    "\n",
    "- $ h = 1 - 10(1-\\frac{1}{1+ U_0/10})/\\bar{Z}_b^2 $\n"
   ]
  },
  {
   "cell_type": "code",
   "execution_count": null,
   "metadata": {},
   "outputs": [],
   "source": [
    "# def slope_P(*, f, r_bar, zb, u)\n",
    "def slope_P(*, f: float, r_bar: float, zb: float, u: float):\n",
    "    g = 0.22 * np.log(4 * zb) * (1 - 2 * np.exp(-zb * (u - 1)/15))\n",
    "    h = 1 - 10 * (1 - 1/(1 + u/10)) / zb**2\n",
    "    return g * h**4 * f / r_bar**2"
   ]
  },
  {
   "attachments": {},
   "cell_type": "markdown",
   "metadata": {},
   "source": [
    "### Comment to the value $ g \\cdot h^4 $ in the paper\n",
    "\n",
    "\"If necessary, limit the value $ g \\cdot h^4 $ to the value $ 0.9 \\cdot b\\cdot  \\bar{R}^2 \\cdot [b - 2 \\phi(0)/F] $\"\n",
    "\n",
    "I do not think that is necessary."
   ]
  },
  {
   "cell_type": "markdown",
   "metadata": {},
   "source": [
    "# Calculate b, a and $\\epsilon$"
   ]
  },
  {
   "attachments": {},
   "cell_type": "markdown",
   "metadata": {},
   "source": [
    "<!-- $ b = \\sqrt{2} \\cdot (1 + \\sqrt{1 - \\bar{R} \\cdot \\phi(0) / F}/\\bar{R}) $ -->\n",
    "Wrote b wrong the first time\n",
    "\n",
    "$ b = \\sqrt{2} \\cdot (1 + \\sqrt{1 - \\bar{R} \\cdot \\phi(0) / F})/\\bar{R} $\n",
    "\n",
    "\n",
    "$ a = [P + b \\cdot (2\\phi(0) - b \\cdot F)] / [b \\cdot F \\cdot (2 - b \\bar{R}) - \\phi(0)] $\n",
    "\n",
    "$ \\epsilon = \\frac{a-b}{b}  $\n",
    "\n",
    "\"If necessary, impose on $\\epsilon$ a minimum absolute value (e.g. $10^{-6}$), and then assume $ a = b \\cdot(1+e) $\" (I do not think that is necessary.)"
   ]
  },
  {
   "cell_type": "code",
   "execution_count": null,
   "metadata": {},
   "outputs": [],
   "source": [
    "def factor_small_b(*, r_bar: float, big_f: float, phi_zero: float):\n",
    "    return np.sqrt(2) * (1 + np.sqrt(1 - r_bar * phi_zero / big_f)) / r_bar\n",
    "\n",
    "def factor_small_a(*, p:float, b: float, big_f: float, phi_zero: float, r_bar: float):\n",
    "    return (p + b * (2 * phi_zero - b * big_f)) / (b * big_f * (2 - b * r_bar) - phi_zero)\n",
    "\n",
    "def factor_epsilon(*, a: float, b: float):\n",
    "    return (a - b) / b"
   ]
  },
  {
   "attachments": {},
   "cell_type": "markdown",
   "metadata": {},
   "source": [
    "# Calculate B and A\n",
    "\n",
    "$ B = [b^2 \\cdot F \\cdot (1 + \\epsilon) - P - \\phi(0) \\cdot b \\cdot (2+\\epsilon) ] / \\epsilon $\n",
    "\n",
    "$ A = [B/b + \\phi(0) - b \\cdot F] \\cdot \\frac{1+ \\epsilon}{\\epsilon} $"
   ]
  },
  {
   "cell_type": "code",
   "execution_count": null,
   "metadata": {},
   "outputs": [],
   "source": [
    "\n",
    "# $ B = [b^2 \\cdot F \\cdot (1 + \\epsilon) - P - \\phi(0) \\cdot b \\cdot (2+\\epsilon) ] / \\epsilon $\n",
    "def factor_big_b(*, b: float, big_f: float, epsilon: float, p: float, phi_zero: float):\n",
    "    return (b**2 * big_f * (1 + epsilon) - p - phi_zero * b * (2 + epsilon)) / epsilon\n",
    "\n",
    "# $ A = [B/b + \\phi(0) - b \\cdot F] \\cdot \\frac{1+ \\epsilon}{\\epsilon} $\n",
    "def factor_big_a(*, b: float, big_f: float, epsilon: float, phi_zero: float, big_b: float):\n",
    "    return (big_b / b + phi_zero - b * big_f) * (1 + epsilon) / epsilon"
   ]
  },
  {
   "attachments": {},
   "cell_type": "markdown",
   "metadata": {},
   "source": [
    "# Emergent intensity, through $ F (\\chi) $\n",
    "\n",
    "\" The fluorescent yield, the weights of the line of interest and the instrumental factors (solid angle and detection efficiency, incident current) are other factors omitted in eq (19) \" (PAP p. 38)\n",
    "\n",
    "\n",
    "$ I_A \\propto C_A \\cdot Q_l^A(E_0) \\cdot F(\\chi) $\n",
    "\n",
    "where\n",
    "\n",
    "\n",
    "$ \\chi = \\mu _\\rho \\cdot \\cosec(TOA)$\n",
    "\n",
    "$ F(\\chi) = [\\phi(0) + B/(b + \\chi) - A \\cdot b \\cdot \\epsilon / (b \\cdot (1+\\epsilon) + \\chi)] / (b + \\chi) $\n",
    "\n",
    "or\n",
    "\n",
    "$ F(\\chi) = \\frac{A}{a+ \\chi} + \\frac{\\phi(0) - A}{b + \\chi} + \\frac{B}{(b + \\chi)^2} $\n",
    "\n",
    "which are the same.\n",
    "\n"
   ]
  },
  {
   "cell_type": "code",
   "execution_count": null,
   "metadata": {},
   "outputs": [],
   "source": [
    "# $ F(\\chi) = [\\phi(0) + B/(b + \\chi) - A \\cdot b \\cdot \\epsilon / (b \\cdot (1+\\epsilon) + \\chi)] / (b + \\chi) $\n",
    "def calc_f_of_chi(*, chi: float, phi_zero: float, big_b: float, b: float, big_a: float, epsilon: float):\n",
    "    return (phi_zero + big_b / (b + chi) - big_a * b * epsilon / (b * (1 + epsilon) + chi)) / (b + chi)\n",
    "\n",
    "\n",
    "# $ F(\\chi) = \\frac{A}{a+ \\chi} + \\frac{\\phi(0) - A}{b + \\chi} + \\frac{B}{b^2 + \\chi^2} $\n",
    "# def calc_f_of_chi2(*, chi: float, phi_zero: float, big_b: float, b: float, big_a: float, a: float):\n",
    "#     return big_a / (a + chi) + (phi_zero - big_a) / (b + chi) + big_b / ((b + chi)**2)"
   ]
  },
  {
   "cell_type": "code",
   "execution_count": null,
   "metadata": {},
   "outputs": [],
   "source": [
    "def absorption_correction_factor(*, elements: list, concentrations: np.ndarray, line: str, e0: float):\n",
    "    # gives the absorption correction factor for a given line and composition\n",
    "\n",
    "    list_C, list_A, list_Z = get_C_A_Z_lists(elements=elements, concentrations=concentrations)\n",
    "    u = e0 / theoretical_energy(line)\n",
    "    mu_rho = hs.material.mass_absorption_mixture(elements=elements, weight_percent=concentrations*100, \n",
    "                                                energies=theoretical_energy(line))\n",
    "\n",
    "    zb = calculate_zb(list_C=list_C, list_Z=list_Z)\n",
    "    eta = calculate_eta(zb=zb)\n",
    "\n",
    "    big_f = calculate_F(elements=elements, line=line, concentrations=list_C, e0=e0)\n",
    "\n",
    "    phi_zero = phi_zero__surface_ionization(u=u, eta=eta)\n",
    "    r_bar = r_bar__average_depth_of_ionization(f=big_f, u=u, z_b=zb)\n",
    "    slope_p = slope_P(f=big_f, r_bar=r_bar, zb=zb, u=u)\n",
    "\n",
    "    b = factor_small_b(r_bar=r_bar, big_f=big_f, phi_zero=phi_zero)\n",
    "    a = factor_small_a(p=slope_p, b=b, big_f=f, phi_zero=phi_zero, r_bar=r_bar)\n",
    "    epsilon = factor_epsilon(a=a, b=b)\n",
    "    big_b = factor_big_b(b=b, big_f=big_f, epsilon=epsilon, p=slope_p, phi_zero=phi_zero)\n",
    "    big_a = factor_big_a(b=b, big_f=big_f, epsilon=epsilon, phi_zero=phi_zero, big_b=big_b)\n",
    "\n",
    "    chi = mu_rho / np.sin(np.deg2rad(35))  # cosecant of 35 degrees\n",
    "    f_of_chi = calc_f_of_chi(chi=chi, phi_zero=phi_zero, big_b=big_b, b=b, big_a=big_a, epsilon=epsilon)\n",
    "\n",
    "\n",
    "    # print('f1:', f_of_chi)\n",
    "\n",
    "    return f_of_chi / big_f"
   ]
  },
  {
   "cell_type": "code",
   "execution_count": null,
   "metadata": {},
   "outputs": [],
   "source": [
    "# testing the whole thing\n",
    "# on GaAs, 15 kV, Ga_La and As_La\n",
    "\n",
    "elements = ['Ga','As']\n",
    "concentrations = np.array([.5,.5])\n",
    "e0 = 15\n",
    "\n",
    "ga_la_A = absorption_correction_factor(elements=elements, concentrations=concentrations, line='Ga_La', e0=e0)\n",
    "as_la_A = absorption_correction_factor(elements=elements, concentrations=concentrations, line='As_La', e0=e0)\n",
    "\n",
    "print(f'Ga_La: {ga_la_A:.2f}\\nAs_La: {as_la_A:.2f}')\n"
   ]
  },
  {
   "cell_type": "code",
   "execution_count": null,
   "metadata": {},
   "outputs": [],
   "source": [
    "# read a df at \"../sem-eds-qc/output.csv\"\n",
    "df = pd.read_csv('../sem-eds-qc/output.csv')\n",
    "df.head(3)"
   ]
  },
  {
   "cell_type": "code",
   "execution_count": null,
   "metadata": {},
   "outputs": [],
   "source": [
    "def wt2at(wt1, wt2, atwt1, atwt2):\n",
    "        # at%_1 = (wt%_1 / at_wt_1) / (wt%_1 / at_wt_1 + wt%_2 / at_wt_2)\n",
    "        return (wt1 / atwt1) / (wt1 / atwt1 + wt2 / atwt2)\n",
    "\n",
    "def calculate_atom_percent(wt_list, elements):\n",
    "        atwt = [hs.material.elements[element].General_properties['atomic_weight'] for element in elements]\n",
    "        # print(atwt)\n",
    "        at = wt2at(wt_list[0], wt_list[1], atwt[0], atwt[1])\n",
    "        print(f'{elements[0]} {at:.2f} {elements[1]} {1-at:.2f}')\n",
    "\n",
    "calculate_atom_percent([0.45, 0.55], ['As', 'Ga'])\n",
    "calculate_atom_percent([0.37, 0.63], ['Ga', 'Sb'])\n",
    "\n",
    "# calculate_atom_percent([.93, 0.07], ['Fe', 'C'])"
   ]
  },
  {
   "cell_type": "code",
   "execution_count": null,
   "metadata": {},
   "outputs": [],
   "source": [
    "df['xpp'] = 0.0\n",
    "\n",
    "print('Vacc  Line\\tA\\tQ\\twt%\\twt%:A\\tat%\\tat%:A\\tat%:AQ\\tat%:q')\n",
    "\n",
    "for xi in df['x'].unique():\n",
    "    elements = df[df['x'] == xi]['Element'].unique()\n",
    "    i1 = df[df['x'] == xi]['i'].to_list()[0]\n",
    "    i2 = df[df['x'] == xi]['i'].to_list()[1]\n",
    "    l1 = df[df['x'] == xi]['Line'].to_list()[0]\n",
    "    l2 = df[df['x'] == xi]['Line'].to_list()[1]\n",
    "    # print(elements, i1, i2, l1, l2)\n",
    "\n",
    "    vacc = df[df['x'] == xi]['kV'].to_list()[0]\n",
    "\n",
    "    acorr1 = absorption_correction_factor(elements=elements, concentrations=np.array([0.5, 0.5]), line=l1, e0=vacc)\n",
    "    acorr2 = absorption_correction_factor(elements=elements, concentrations=np.array([0.5, 0.5]), line=l2, e0=vacc)\n",
    "\n",
    "    to_percent = 100.0\n",
    "\n",
    "    wt1 = to_percent * i1/(i1+i2)\n",
    "    wt2 = to_percent * i2/(i1+i2)\n",
    "\n",
    "    q1 = q_ionization_cross_section_2(e0=vacc, line=l1)\n",
    "    q2 = q_ionization_cross_section_2(e0=vacc, line=l2)\n",
    "\n",
    "    wt1_q = to_percent * (i1/q1) / ((i1/q1) + (i2/q2))\n",
    "    wt2_q = to_percent * (i2/q2) / ((i1/q1) + (i2/q2))\n",
    "\n",
    "    wt1_A = to_percent * i1/acorr1 / (i1/acorr1 + i2/acorr2)\n",
    "    wt2_A = to_percent * i2/acorr2 / (i1/acorr1 + i2/acorr2)\n",
    "\n",
    "    wt1_Aq = to_percent * i1/(acorr1 * q1) / (i1/(acorr1 * q1) + i2/(acorr2 * q2))\n",
    "    wt2_Aq = to_percent * i2/(acorr2 * q2) / (i1/(acorr1 * q1) + i2/(acorr2 * q2))\n",
    "\n",
    "    atwt = [hs.material.elements[element].General_properties['atomic_weight'] for element in elements]\n",
    "\n",
    "    at1 = to_percent * wt2at(wt1, wt2, atwt[0], atwt[1])\n",
    "    at2 = to_percent * wt2at(wt2, wt1, atwt[1], atwt[0])\n",
    "\n",
    "    at1_q = to_percent * wt2at(wt1_q, wt2_q, atwt[0], atwt[1])\n",
    "    at2_q = to_percent * wt2at(wt2_q, wt1_q, atwt[1], atwt[0])\n",
    "\n",
    "    at1_A = to_percent * wt2at(wt1_A, wt2_A, atwt[0], atwt[1])\n",
    "    at2_A = to_percent * wt2at(wt2_A, wt1_A, atwt[1], atwt[0])\n",
    "\n",
    "    print(f'{int(vacc):<4}  {l1}\\t{acorr1:.3f}\\t{q1:.3f}\\t{wt1:.0f}\\t{wt1_A:.0f}\\t{at1:.0f}\\t{at1_A:.0f}\\t{wt1_Aq:.0f}\\t{at1_q:.0f}')\n",
    "    # print(f'{int(vacc):<4}  {l2}\\t{acorr2:.3f}\\t{q2:.3f}\\t{wt2:.0f}\\t{wt2_A:.0f}\\t{at2:.0f}\\t{at2_A:.0f}\\t{wt2_Aq:.0f}\\t{at2_q:.0f}')\n",
    "\n"
   ]
  },
  {
   "cell_type": "code",
   "execution_count": null,
   "metadata": {},
   "outputs": [],
   "source": [
    "\n",
    "hs.material.mass_absorption_mixture(elements=['As', 'Ga'], weight_percent=concentrations*100, energies=theoretical_energy('As_Ka'))"
   ]
  },
  {
   "cell_type": "code",
   "execution_count": null,
   "metadata": {},
   "outputs": [],
   "source": [
    "hs.material.mass_absorption_mixture(elements=['Ga', 'Sb'], weight_percent=concentrations*100, energies=theoretical_energy('Sb_La'))\n"
   ]
  },
  {
   "cell_type": "code",
   "execution_count": null,
   "metadata": {},
   "outputs": [],
   "source": [
    "61699.0/(q_ionization_cross_section(e0=15, e_c=theoretical_energy('As_La'), m_small=0.82) * .146)"
   ]
  },
  {
   "attachments": {},
   "cell_type": "markdown",
   "metadata": {},
   "source": [
    "$ I_A \\propto C_A \\cdot Q_l^A(E_0) \\cdot F(\\chi) $\n",
    "\n",
    "where\n",
    "\n",
    "- $ C_A $ is the concentration of element A\n",
    "- $ Q_l^A(E_0) $ is the ionization cross section of element A at the energy $E_0$, which is the beam energy\n",
    "- $ F(\\chi) $ is the emergent intensity"
   ]
  },
  {
   "cell_type": "code",
   "execution_count": null,
   "metadata": {},
   "outputs": [],
   "source": []
  },
  {
   "attachments": {},
   "cell_type": "markdown",
   "metadata": {},
   "source": [
    "# plotting $\\phi (\\rho z)$\n",
    "\n",
    "$ \\phi (\\rho z) = A \\cdot \\exp(- a \\cdot (\\rho z)) + (B \\cdot (\\rho z) + \\phi(0) - A) \\cdot \\exp(- b \\cdot (\\rho z)) $\n",
    "\n"
   ]
  },
  {
   "cell_type": "code",
   "execution_count": null,
   "metadata": {},
   "outputs": [],
   "source": [
    "# $ \\phi (\\rho z) = A \\cdot \\exp(- a \\cdot (\\rho z)) + (B \\cdot (\\rho z) + \\phi(0) - A) \\cdot \\exp(- b \\cdot (\\rho z)) $\n",
    "def phi_rhoz(*, rhoz: np.array, A: float, a: float, B: float, b: float, phi_zero: float) -> np.array:\n",
    "    return A * np.exp(- a * rhoz) + (B * rhoz + phi_zero - A) * np.exp(- b * rhoz)"
   ]
  },
  {
   "cell_type": "code",
   "execution_count": null,
   "metadata": {},
   "outputs": [],
   "source": [
    "type(go.Figure)"
   ]
  },
  {
   "cell_type": "code",
   "execution_count": null,
   "metadata": {},
   "outputs": [],
   "source": [
    "def phi_rhoz_2(*, elements: list, concentrations: np.ndarray, line: str, e0: float, rhoz: np.array):\n",
    "    # gives the absorption correction factor for a given line and composition\n",
    "    list_C, list_A, list_Z = get_C_A_Z_lists(elements=elements, concentrations=concentrations)\n",
    "    u = e0 / theoretical_energy(line)\n",
    "    mu_rho = hs.material.mass_absorption_mixture(elements=elements, weight_percent=concentrations*100, \n",
    "                                                energies=theoretical_energy(line))\n",
    "    zb = calculate_zb(list_C=list_C, list_Z=list_Z)\n",
    "    eta = calculate_eta(zb=zb)\n",
    "    big_f = calculate_F(elements=elements, line=line, concentrations=list_C, e0=e0)\n",
    "    phi_zero = phi_zero__surface_ionization(u=u, eta=eta)\n",
    "    r_bar = r_bar__average_depth_of_ionization(f=big_f, u=u, z_b=zb)\n",
    "    slope_p = slope_P(f=big_f, r_bar=r_bar, zb=zb, u=u)\n",
    "    b = factor_small_b(r_bar=r_bar, big_f=big_f, phi_zero=phi_zero)\n",
    "    a = factor_small_a(p=slope_p, b=b, big_f=f, phi_zero=phi_zero, r_bar=r_bar)\n",
    "    epsilon = factor_epsilon(a=a, b=b)\n",
    "    big_b = factor_big_b(b=b, big_f=big_f, epsilon=epsilon, p=slope_p, phi_zero=phi_zero)\n",
    "    big_a = factor_big_a(b=b, big_f=big_f, epsilon=epsilon, phi_zero=phi_zero, big_b=big_b)\n",
    "    chi = mu_rho / np.sin(np.deg2rad(35))  # cosecant of 35 degrees\n",
    "    f_of_chi = calc_f_of_chi(chi=chi, phi_zero=phi_zero, big_b=big_b, b=b, big_a=big_a, epsilon=epsilon)\n",
    "\n",
    "    # phi of (rho z)\n",
    "    print(f'A: {big_a:>9.2e}, \\ta: {a:>9.2e}, \\tB: {big_b:>9.2e}, \\tb: {b:>9.2e}, \\t\\u03C6(0): {phi_zero:>9.2e}, \\t\\u03B5: {epsilon:>9.2e}')\n",
    "    phi = phi_rhoz(rhoz=rhoz, A=big_a, a=a, B=big_b, b=b, phi_zero=phi_zero)\n",
    "    return phi\n"
   ]
  },
  {
   "cell_type": "code",
   "execution_count": null,
   "metadata": {},
   "outputs": [],
   "source": [
    "fig = go.Figure()\n",
    "rhoz = np.linspace(0, 0.01, 1000+1)\n",
    "# phi = phi_rhoz_2(elements=['Ga', 'As'], concentrations=np.array([.5, .5]), line='Ga_La', e0=14, rhoz=rhoz)\n",
    "# fig.add_trace(go.Scatter(x=rhoz, y=phi, mode='lines'))\n",
    "\n",
    "phi_5 = phi_rhoz_2(elements=['Ga', 'As'], concentrations=np.array([.5, .5]), line='Ga_La', e0=5, rhoz=rhoz)\n",
    "phi_10 = phi_rhoz_2(elements=['Ga', 'As'], concentrations=np.array([.5, .5]), line='Ga_La', e0=10, rhoz=rhoz)\n",
    "phi_15 = phi_rhoz_2(elements=['Ga', 'As'], concentrations=np.array([.5, .5]), line='Ga_La', e0=15, rhoz=rhoz)\n",
    "\n",
    "fig.add_trace(go.Scatter(x=rhoz, y=phi_5, mode='lines', name='5 keV'))\n",
    "fig.add_trace(go.Scatter(x=rhoz, y=phi_10, mode='lines', name='10 keV'))\n",
    "fig.add_trace(go.Scatter(x=rhoz, y=phi_15, mode='lines', name='15 keV'))\n",
    "\n",
    "fig.update_layout(yaxis_title='\\u03C6 (\\u03C1z)', xaxis_title='\\u03C1z [g/cm<sup>2</sup>]')"
   ]
  },
  {
   "cell_type": "code",
   "execution_count": null,
   "metadata": {},
   "outputs": [],
   "source": [
    "# # phi_rhoz_plot(elements=['Cu', 'Al'], concentrations=np.array([.5, .5]), line='Cu_La', e0=6)\n",
    "\n",
    "# fig = go.Figure()\n",
    "# rhoz = np.linspace(0, 0.01, 1000+1)\n",
    "\n",
    "# phi_5 = phi_rhoz_2(elements=['Cu', 'Al'], concentrations=np.array([.5, .5]), line='Cu_La', e0=5, rhoz=rhoz)\n",
    "# phi_10 = phi_rhoz_2(elements=['Cu', 'Al'], concentrations=np.array([.5, .5]), line='Cu_La', e0=10, rhoz=rhoz)\n",
    "# phi_15 = phi_rhoz_2(elements=['Cu', 'Al'], concentrations=np.array([.5, .5]), line='Cu_La', e0=15, rhoz=rhoz)\n",
    "\n",
    "# fig.add_trace(go.Scatter(x=rhoz, y=phi_5, mode='lines', name='Cu_La 5 keV'))\n",
    "# fig.add_trace(go.Scatter(x=rhoz, y=phi_10, mode='lines', name='Cu_La 10 keV'))\n",
    "# fig.add_trace(go.Scatter(x=rhoz, y=phi_15, mode='lines', name='Cu_La 15 keV'))\n",
    "\n",
    "# phi_5 = phi_rhoz_2(elements=['Cu', 'Al'], concentrations=np.array([.5, .5]), line='Ga_La', e0=5, rhoz=rhoz)\n",
    "# phi_10 = phi_rhoz_2(elements=['Cu', 'Al'], concentrations=np.array([.5, .5]), line='Ga_La', e0=10, rhoz=rhoz)\n",
    "# phi_15 = phi_rhoz_2(elements=['Cu', 'Al'], concentrations=np.array([.5, .5]), line='Ga_La', e0=15, rhoz=rhoz)\n",
    "\n",
    "# fig.add_trace(go.Scatter(x=rhoz, y=phi_5, mode='lines', name='Ga_La 5 keV'))\n",
    "# fig.add_trace(go.Scatter(x=rhoz, y=phi_10, mode='lines', name='Ga_La 10 keV'))\n",
    "# fig.add_trace(go.Scatter(x=rhoz, y=phi_15, mode='lines', name='Ga_La 15 keV'))\n",
    "\n",
    "# fig.update_layout(title='Something goes wrong using Cu_La at 15 kV', yaxis_range=[-.2, 3],)"
   ]
  },
  {
   "cell_type": "code",
   "execution_count": null,
   "metadata": {},
   "outputs": [],
   "source": [
    "# # phi_rhoz_plot(elements=['C'], concentrations=np.array([2.2]), line='C_Ka', e0=4)\n",
    "\n",
    "# fig = go.Figure()\n",
    "# rhoz = np.linspace(0, 0.001, 1000+1)\n",
    "\n",
    "# phi_5 = phi_rhoz_2(elements=['Ga', 'Sb'], concentrations=np.array([0.5, 0.5]), line='Sb_La', e0=5, rhoz=rhoz)\n",
    "# phi_10 = phi_rhoz_2(elements=['Ga', 'Sb'], concentrations=np.array([0.5, 0.5]), line='Sb_La', e0=10, rhoz=rhoz)\n",
    "# phi_15 = phi_rhoz_2(elements=['Ga', 'Sb'], concentrations=np.array([0.5, 0.5]), line='Sb_La', e0=15, rhoz=rhoz)\n",
    "# phi_30 = phi_rhoz_2(elements=['Ga', 'Sb'], concentrations=np.array([0.5, 0.5]), line='Sb_La', e0=30, rhoz=rhoz)\n",
    "\n",
    "\n",
    "# fig.add_trace(go.Scatter(x=rhoz, y=phi_5, mode='lines', name='Sb_La 5 keV'))\n",
    "# fig.add_trace(go.Scatter(x=rhoz, y=phi_10, mode='lines', name='Sb_La 10 keV'))\n",
    "# fig.add_trace(go.Scatter(x=rhoz, y=phi_15, mode='lines', name='Sb_La 15 keV'))\n",
    "# fig.add_trace(go.Scatter(x=rhoz, y=phi_30, mode='lines', name='Sb_La 30 keV'))\n",
    "\n",
    "# phi_5 = phi_rhoz_2(elements=['Ga', 'Sb'], concentrations=np.array([0.5, 0.5]), line='Ga_La', e0=5, rhoz=rhoz)\n",
    "# phi_10 = phi_rhoz_2(elements=['Ga', 'Sb'], concentrations=np.array([0.5, 0.5]), line='Ga_La', e0=10, rhoz=rhoz)\n",
    "# phi_15 = phi_rhoz_2(elements=['Ga', 'Sb'], concentrations=np.array([0.5, 0.5]), line='Ga_La', e0=15, rhoz=rhoz)\n",
    "# phi_30 = phi_rhoz_2(elements=['Ga', 'Sb'], concentrations=np.array([0.5, 0.5]), line='Ga_La', e0=30, rhoz=rhoz)\n",
    "\n",
    "\n",
    "# fig.add_trace(go.Scatter(x=rhoz, y=phi_5, mode='lines', name='Ga_La 5 keV'))\n",
    "# fig.add_trace(go.Scatter(x=rhoz, y=phi_10, mode='lines', name='Ga_La 10 keV'))\n",
    "# fig.add_trace(go.Scatter(x=rhoz, y=phi_15, mode='lines', name='Ga_La 15 keV'))\n",
    "# # fig.add_trace(go.Scatter(x=rhoz, y=phi_30, mode='lines', name='Ga_La 30 keV'))\n",
    "\n",
    "\n",
    "# # fig.update_layout(title='Something goes wrong using C_Ka in C', yaxis_range=[-200, 3],)\n",
    "# # log x\n",
    "# # fig.update_layout(title='Something goes wrong using Sb_La in GaSb', xaxis_type=\"log\", xaxis_title='\\u03C1z [g/cm<sup>2</sup>]')"
   ]
  },
  {
   "cell_type": "code",
   "execution_count": null,
   "metadata": {},
   "outputs": [],
   "source": []
  },
  {
   "cell_type": "code",
   "execution_count": null,
   "metadata": {},
   "outputs": [],
   "source": []
  },
  {
   "cell_type": "code",
   "execution_count": null,
   "metadata": {},
   "outputs": [],
   "source": []
  },
  {
   "cell_type": "code",
   "execution_count": null,
   "metadata": {},
   "outputs": [],
   "source": []
  }
 ],
 "metadata": {
  "kernelspec": {
   "display_name": "hspy",
   "language": "python",
   "name": "python3"
  },
  "language_info": {
   "codemirror_mode": {
    "name": "ipython",
    "version": 3
   },
   "file_extension": ".py",
   "mimetype": "text/x-python",
   "name": "python",
   "nbconvert_exporter": "python",
   "pygments_lexer": "ipython3",
   "version": "3.8.16"
  },
  "orig_nbformat": 4
 },
 "nbformat": 4,
 "nbformat_minor": 2
}
