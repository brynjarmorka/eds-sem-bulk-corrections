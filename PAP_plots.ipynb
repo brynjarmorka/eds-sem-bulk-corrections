{
 "cells": [
  {
   "attachments": {},
   "cell_type": "markdown",
   "metadata": {},
   "source": [
    "This Notebook is for plotting parts of the PAP algorithm, to compare with the original paper by Pouchou and Pichoir (1991)."
   ]
  },
  {
   "cell_type": "code",
   "execution_count": null,
   "metadata": {},
   "outputs": [],
   "source": [
    "import hyperspy.api as hs\n",
    "import numpy as np\n",
    "import plotly.graph_objects as go\n",
    "\n",
    "from PAP_functions.PAP_helper_functions import theoretical_energy, get_C_A_Z_arrays\n",
    "from PAP_functions.PAP_area_F import set_m_small, ionization_cross_section_Q, mean_atomic_mass_M, mean_ionzation_potential_J, energy_dependent_terms_f_of_v, energy_loss_dE_drhos, whole_dE_drhos, deceleration_factor_one_over_S, backscattering_factor_R, mean_atomic_number_Zb, mean_backscattering_coefficient_eta"
   ]
  },
  {
   "cell_type": "code",
   "execution_count": null,
   "metadata": {},
   "outputs": [],
   "source": [
    "hs.material.elements.Ga.Atomic_properties.Xray_lines.Ka['energy (keV)']"
   ]
  },
  {
   "cell_type": "code",
   "execution_count": null,
   "metadata": {},
   "outputs": [],
   "source": [
    "## Looking at the values\n",
    "\n",
    "elements = ['Ga', 'Sb']\n",
    "line = 'Ga_La'\n",
    "e0 = 15  # keV\n",
    "concentrations = [0.5, 0.5]  # at%\n",
    "\n",
    "e_c = theoretical_energy(line=line)\n",
    "u = e_c / e0\n",
    "m_small = set_m_small(line=line)\n",
    "\n",
    "array_C, array_A, array_Z = get_C_A_Z_arrays(elements=elements, \n",
    "                                         concentrations=concentrations, concentration_type='at')\n",
    "q = ionization_cross_section_Q(e0=e0, line=line)\n",
    "m = mean_atomic_mass_M(array_C=array_C, array_Z=array_Z, array_A=array_A)\n",
    "j = mean_ionzation_potential_J(array_C=array_C, array_Z=array_Z, array_A=array_A)\n",
    "f_of_v = energy_dependent_terms_f_of_v(e=e0, j=j)\n",
    "dE_drhos = energy_loss_dE_drhos(m=m, j=j, f_of_v=f_of_v)\n",
    "dE_drhos2 = whole_dE_drhos(array_C=array_C, array_Z=array_Z, array_A=array_A, e0=e0)\n",
    "\n",
    "print(f'C wt%: {array_C}')\n",
    "print(f'A Da: {array_A}')\n",
    "print(f'Z: {array_Z}')\n",
    "print(f'Q: {q:.3f}')\n",
    "print(f'M: {m:.3f}')\n",
    "print(f'J: {j:.3f}')\n",
    "print(f'1/f(V): {1/f_of_v:.3f}')"
   ]
  },
  {
   "cell_type": "code",
   "execution_count": null,
   "metadata": {},
   "outputs": [],
   "source": [
    "def plot_dE_drhos(*, fig, elements, at_list, energies, name):\n",
    "    array_C, array_A, array_Z = get_C_A_Z_arrays(elements=elements, \n",
    "                                         concentrations=at_list, concentration_type='at')\n",
    "    m = mean_atomic_mass_M(array_C=array_C, array_Z=array_Z, array_A=array_A)\n",
    "    j = mean_ionzation_potential_J(array_C=array_C, array_Z=array_Z, array_A=array_A)\n",
    "    f_of_v_list = [energy_dependent_terms_f_of_v(e=e, j=j) for e in energies]\n",
    "    de_drhos_list = np.array([energy_loss_dE_drhos(m=m, j=j, f_of_v=f) for f in f_of_v_list])\n",
    "    fig.add_trace(go.Scatter(x=energies, y=de_drhos_list, name=name))\n"
   ]
  },
  {
   "cell_type": "code",
   "execution_count": null,
   "metadata": {},
   "outputs": [],
   "source": [
    "energies = np.linspace(0.01, 50, 10000)\n",
    "# f_of_v_list = [energy_dependent_terms_f_of_v(e=e, j=j) for e in energies]\n",
    "# de_drhos_list = np.array([energy_loss_dE_drhos(m=m, j=j, f_of_v=f) for f in f_of_v_list])\n",
    "\n",
    "fig = go.Figure()\n",
    "plot_dE_drhos(fig=fig, elements=['Ga', 'Sb'], at_list=[0.5, 0.5], energies=energies, name='GaSb')\n",
    "plot_dE_drhos(fig=fig, elements=['Ga', 'As'], at_list=[0.5, 0.5], energies=energies, name='GaAs')\n",
    "plot_dE_drhos(fig=fig, elements=['Cu'], at_list=[1.], energies=energies, name='Cu (PAP Fig. 4)')\n",
    "\n",
    "fig.update_layout(font=dict(family=\"EB Garamond SemiBold\", size=16, color=\"black\"),\n",
    "                  xaxis_title=\"Energy [keV]\", xaxis_type=\"log\",\n",
    "                  yaxis_title=\"dE/d\\u03C1s [keV cm<sup>2</sup>/g]\",\n",
    "                  margin=dict(l=5, r=5, b=5, t=5), width=800, height=400,\n",
    "                  legend=dict(x=0.995, y=0.99, xanchor='right',),\n",
    "                  ) "
   ]
  },
  {
   "cell_type": "code",
   "execution_count": null,
   "metadata": {},
   "outputs": [],
   "source": [
    "# fig.write_image('../mastersthesis/figures/PAP_energy_loss_dE_drhos.pdf')\n",
    "# # fig.write_image('../mastersthesis/figures/PAP_deceleration_of_electrons.pdf')  # old name\n"
   ]
  },
  {
   "cell_type": "code",
   "execution_count": null,
   "metadata": {},
   "outputs": [],
   "source": [
    "# Making a Q(U) plot\n",
    "\n",
    "e0_max = 30\n",
    "def add_line_q_of_u(fig, line, name):\n",
    "    e_c = theoretical_energy(line=line)\n",
    "    e0_list = np.arange(e_c, e0_max, 0.01)\n",
    "    u_list = e0_list / e_c\n",
    "    q_list = [ionization_cross_section_Q(e0=e0, line=line) for e0 in e0_list]\n",
    "    print('max q =', round(max(q_list),3), ' at U0 =' , round(u_list[q_list.index(max(q_list))],3), \n",
    "    ' at E =', round(e0_list[q_list.index(max(q_list))], 3), 'keV')\n",
    "    fig.add_trace(go.Scatter(x=u_list, y=q_list, name=f'{name}, E<sub>C</sub>{e_c:.2f} keV'))\n",
    "\n",
    "fig = go.Figure()\n",
    "fig.update_layout(font=dict(family=\"EB Garamond SemiBold\", size=16, color=\"black\"))\n",
    "add_line_q_of_u(fig, 'Ga_La', 'Ga L\\u03B1')\n",
    "add_line_q_of_u(fig, 'As_La', 'As L\\u03B1')\n",
    "fig.update_layout( xaxis_title='U = E<sub>0</sub>/E<sub>c</sub>', yaxis_title='Q<sub> l</sub><sup>A</sup>(U)',\n",
    "                  margin=dict(l=5, r=5, b=5, t=5), width=800, height=400,\n",
    "                  legend=dict(x=0.995, y=0.99, xanchor='right',),\n",
    "                  xaxis_range=[-0.1, 25])\n",
    "\n",
    "fig.add_annotation(x=3.38, y=0.372, text=\"Q<sub> max</sub> at  (3.38, 0.37)<br> i.e. E<sub>0</sub> = 3.7 keV\", ax=275, ay=0)\n",
    "fig.add_annotation(x=3.38, y=0.273, text=\"Q<sub> max</sub> at  (3.38, 0.27)<br> i.e. E<sub>0</sub> = 4.3 keV\", ax=275, ay=130)\n",
    "\n",
    "# fig.write_image('../mastersthesis/figures/PAP_ionization_cross_section.pdf')\n",
    "\n",
    "fig "
   ]
  },
  {
   "cell_type": "code",
   "execution_count": null,
   "metadata": {},
   "outputs": [],
   "source": [
    "# calculate R for all Z, with varying U0\n",
    "\n",
    "array_U = [1.1, 1.3, 1.5, 2, 3, 5, 20]\n",
    "array_all_Z = np.arange(1,90)\n",
    "array_all_R = []\n",
    "for z in array_all_Z:\n",
    "    array_C = [1]\n",
    "    array_Z = [z]\n",
    "    array_R = []\n",
    "    for u in array_U:\n",
    "        array_R.append(backscattering_factor_R(u0=u, array_C=array_C, array_Z=array_Z))\n",
    "    array_all_R.append(array_R)    \n",
    "array_all_R = np.array(array_all_R)\n",
    "\n",
    "fig = go.Figure()\n",
    "fig.update_layout(font=dict(family=\"EB Garamond SemiBold\", size=16, color=\"black\"),\n",
    "                xaxis_title=\"Z\", yaxis_title=\"Backscattering factor R\", legend_title='Overvoltage',\n",
    "                margin=dict(l=5, r=5, b=5, t=5), width=800, height=400,)\n",
    "\n",
    "for i, u0 in enumerate(array_U):\n",
    "    fig.add_trace(go.Scatter(x=array_all_Z, y=array_all_R[:,i], name=f\"{u0}\"))\n",
    "\n",
    "\n",
    "# fig.write_image('../mastersthesis/figures/PAP_backscattering_factor.pdf')\n",
    "\n",
    "fig"
   ]
  },
  {
   "cell_type": "code",
   "execution_count": null,
   "metadata": {},
   "outputs": [],
   "source": [
    "# Surface ionization\n",
    "\n",
    "# calculation of phi_zero\n",
    "def phi_zero__surface_ionization_2(*, e0: float, e_c: float, array_C: np.array, array_Z: np.array):\n",
    "    zb = mean_atomic_number_Zb(array_C=array_C, array_Z=array_Z)\n",
    "    eta = mean_backscattering_coefficient_eta(zb=zb)\n",
    "    u = e0 / e_c\n",
    "    return 1 + 3.3 * (1 - 1 / (u**(2 - 2.3 * eta))) * eta**1.2\n",
    "\n",
    "def plot_phi_zero():\n",
    "    # remaking plot 24 from the paper\n",
    "    e0_list = [1.1, 1.3, 1.5, 2, 3, 5, 20, 100]\n",
    "    e_c = 1 # one to get the overvoltages in the paper\n",
    "    all_z = np.arange(1, 90, 1)\n",
    "    array_C = [1]\n",
    "    fig = go.Figure()\n",
    "    for e0 in e0_list:\n",
    "        y = [phi_zero__surface_ionization_2(e0=e0, e_c=e_c, array_C=array_C, array_Z=[z]) for z in all_z]\n",
    "        fig.add_trace(go.Scatter(x=all_z, y=y, name=f'{e0}'))\n",
    "    return fig\n",
    "\n",
    "fig = plot_phi_zero()\n",
    "fig.update_layout(xaxis_title='Z', yaxis_title='Surface ionization potential, \\u03C6(0)',\n",
    "                    legend=dict(traceorder='reversed', title='Overvoltage'))\n",
    "fig.update_layout(font=dict(family=\"EB Garamond SemiBold\", size=16, color=\"black\"),\n",
    "                    margin=dict(l=5, r=5, b=5, t=5), width=800, height=400)\n",
    "\n",
    "# fig.write_image('../mastersthesis/figures/PAP_surface_ionization_potential.pdf')\n",
    "fig"
   ]
  },
  {
   "cell_type": "code",
   "execution_count": null,
   "metadata": {},
   "outputs": [],
   "source": []
  },
  {
   "cell_type": "code",
   "execution_count": null,
   "metadata": {},
   "outputs": [],
   "source": []
  },
  {
   "cell_type": "code",
   "execution_count": null,
   "metadata": {},
   "outputs": [],
   "source": []
  },
  {
   "cell_type": "code",
   "execution_count": null,
   "metadata": {},
   "outputs": [],
   "source": []
  },
  {
   "cell_type": "code",
   "execution_count": null,
   "metadata": {},
   "outputs": [],
   "source": []
  },
  {
   "cell_type": "code",
   "execution_count": null,
   "metadata": {},
   "outputs": [],
   "source": []
  },
  {
   "cell_type": "code",
   "execution_count": null,
   "metadata": {},
   "outputs": [],
   "source": []
  },
  {
   "cell_type": "code",
   "execution_count": null,
   "metadata": {},
   "outputs": [],
   "source": []
  },
  {
   "cell_type": "code",
   "execution_count": null,
   "metadata": {},
   "outputs": [],
   "source": []
  },
  {
   "cell_type": "code",
   "execution_count": null,
   "metadata": {},
   "outputs": [],
   "source": []
  },
  {
   "cell_type": "code",
   "execution_count": null,
   "metadata": {},
   "outputs": [],
   "source": []
  },
  {
   "cell_type": "code",
   "execution_count": null,
   "metadata": {},
   "outputs": [],
   "source": []
  },
  {
   "cell_type": "code",
   "execution_count": null,
   "metadata": {},
   "outputs": [],
   "source": []
  },
  {
   "cell_type": "code",
   "execution_count": null,
   "metadata": {},
   "outputs": [],
   "source": []
  },
  {
   "cell_type": "code",
   "execution_count": null,
   "metadata": {},
   "outputs": [],
   "source": []
  },
  {
   "cell_type": "code",
   "execution_count": null,
   "metadata": {},
   "outputs": [],
   "source": []
  },
  {
   "cell_type": "code",
   "execution_count": null,
   "metadata": {},
   "outputs": [],
   "source": []
  },
  {
   "cell_type": "code",
   "execution_count": null,
   "metadata": {},
   "outputs": [],
   "source": []
  },
  {
   "cell_type": "code",
   "execution_count": null,
   "metadata": {},
   "outputs": [],
   "source": []
  },
  {
   "cell_type": "code",
   "execution_count": null,
   "metadata": {},
   "outputs": [],
   "source": []
  },
  {
   "cell_type": "code",
   "execution_count": null,
   "metadata": {},
   "outputs": [],
   "source": []
  },
  {
   "cell_type": "code",
   "execution_count": null,
   "metadata": {},
   "outputs": [],
   "source": []
  },
  {
   "cell_type": "code",
   "execution_count": null,
   "metadata": {},
   "outputs": [],
   "source": []
  },
  {
   "cell_type": "code",
   "execution_count": null,
   "metadata": {},
   "outputs": [],
   "source": []
  },
  {
   "cell_type": "code",
   "execution_count": null,
   "metadata": {},
   "outputs": [],
   "source": []
  },
  {
   "cell_type": "code",
   "execution_count": null,
   "metadata": {},
   "outputs": [],
   "source": []
  },
  {
   "cell_type": "code",
   "execution_count": null,
   "metadata": {},
   "outputs": [],
   "source": []
  },
  {
   "cell_type": "code",
   "execution_count": null,
   "metadata": {},
   "outputs": [],
   "source": []
  }
 ],
 "metadata": {
  "kernelspec": {
   "display_name": "hspy",
   "language": "python",
   "name": "python3"
  },
  "language_info": {
   "codemirror_mode": {
    "name": "ipython",
    "version": 3
   },
   "file_extension": ".py",
   "mimetype": "text/x-python",
   "name": "python",
   "nbconvert_exporter": "python",
   "pygments_lexer": "ipython3",
   "version": "3.8.16"
  },
  "orig_nbformat": 4
 },
 "nbformat": 4,
 "nbformat_minor": 2
}
