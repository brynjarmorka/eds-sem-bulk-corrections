{
 "cells": [
  {
   "attachments": {},
   "cell_type": "markdown",
   "metadata": {},
   "source": [
    "# The PAP algorithm (using the simplified XPP)\n",
    "\n",
    "Pouchou, J.-L., & Pichoir, F. (1991). Quantitative Analysis of Homogeneous or Stratified Microvolumes Applying the Model “PAP.”\n",
    "\n",
    "https://sci-hub.ru/10.1007/978-1-4899-2617-3_4\n",
    "\n"
   ]
  },
  {
   "attachments": {},
   "cell_type": "markdown",
   "metadata": {},
   "source": [
    "The functions to calculate the steps are put in python files in the PAP_functions folder.\n",
    "\n",
    "This Jupyter Notebook writes out the equations in LaTeX format. Read the functions in the python files, or write ´function_name??´ in a cell to see the code.\n",
    "\n",
    "Plotting of the equations, to compare them to the PAP paper, is done in the PAP_plots.ipynb notebook."
   ]
  },
  {
   "cell_type": "code",
   "execution_count": null,
   "metadata": {},
   "outputs": [],
   "source": [
    "import numpy as np\n",
    "import pandas as pd\n",
    "\n",
    "from PAP_functions.PAP_helper_functions import (theoretical_energy,\n",
    "    get_C_A_Z_arrays,\n",
    "    wt2at,\n",
    "    at2wt,\n",
    "    calculate_atom_percent)\n",
    "from PAP_functions.PAP_area_F import (set_m_small, \n",
    "    ionization_cross_section_Q, \n",
    "    mean_atomic_mass_M, \n",
    "    mean_ionzation_potential_J, \n",
    "    energy_dependent_terms_f_of_v, \n",
    "    energy_loss_dE_drhos, \n",
    "    deceleration_factor_one_over_S, \n",
    "    backscattering_factor_R, \n",
    "    area_F, \n",
    "    mean_atomic_number_Zb)\n",
    "from PAP_functions.PAP_parameterization import (surface_ionization_phi_zero, \n",
    "    average_depth_of_ionization_R_bar, \n",
    "    absorption_correction,\n",
    "    parameterization_phi_of_rhoz)"
   ]
  },
  {
   "attachments": {},
   "cell_type": "markdown",
   "metadata": {},
   "source": [
    "# F - area of the distribution $\\phi(\\rho z)$\n",
    "\n",
    "\n",
    "The area of the $\\phi(\\rho z)$ curve is the primary intentisty, F.\n",
    "\n",
    "$ F = \\int \\limits_{0}^{\\inf} \\phi(\\rho z)d(\\rho z) = (R/S) \\cdot Q(U)$\n",
    "\n",
    "\n",
    "We use an approximation for the ionization cross-section, and calculate R and 1/S as below.\n",
    "\n",
    "___\n",
    "Sidenote:  $n_A = C_A \\cdot \\frac{N^0}{A} \\cdot \\frac{R}{S} $\n",
    "\n",
    "This is per electron(?). We need $C_A$, $A$, $R$, and $S$. Factors like $N^0$ and the beam current cancel out (shared between the elements in the specimen).\n",
    "\n",
    "Sidenote end.\n",
    "___\n"
   ]
  },
  {
   "attachments": {},
   "cell_type": "markdown",
   "metadata": {},
   "source": [
    "## $1/S$ - deceleation of electrons\n",
    "\n",
    "$ 1 / S = \\int \\limits_{E_0}^{E_l} \\frac{Q(U)}{dE/d\\rho s} dE$\n",
    "\n",
    "$Q(U)$ is the ionization cross section. $dE/d\\rho s$ is the stopping power of the electrons. This integral is solved analytically with the equations below.\n",
    "\n"
   ]
  },
  {
   "attachments": {},
   "cell_type": "markdown",
   "metadata": {},
   "source": [
    "___\n",
    "\n",
    "### $Q(U)$ - Ionization cross section\n",
    "\n",
    "(The PAP paper writes \"$Q(U)$\", where l is the level, $A$ is the atomic number and $E_0$ is the nominal beam energy.However, writing $Q(U)$ is more efficient.)\n",
    "\n",
    "From the paper: \"expressions that were proposed are generally too mathematically complex to allow for an\n",
    "analytical calculation of the integral (3). A satisfactory way of varying the cross section\n",
    "with U is obtained with the expression proposed by Hutchins [23]:\n",
    "\n",
    "\n",
    "$ Q(U) \\propto ln(U) / (U^m \\cdot E_c^2)$\n",
    "\n",
    "\n",
    "- with $ U = E/E_c $ as the overvoltage, where $E_c$ is the critical ionization energy.\n",
    "- m is a constant dependent on the line type (K, L or M)\n",
    "    - K-lines: m = 0.9, as suggested by Bastin* (1998, PROZA96)\n",
    "    - L-lines: m = 0.82\n",
    "    - M-lines: m = 0.78\n",
    "\n",
    "*Bastin, Dijkstra and Heijligers (1998) improved the m-coefficient in the Q-equation. They have specific numbers for C, N and O, which have low Z.\n",
    "\n",
    "https://analyticalsciencejournals.onlinelibrary.wiley.com/doi/pdf/10.1002/%28SICI%291097-4539%28199801/02%2927%3A1%3C3%3A%3AAID-XRS227%3E3.0.CO%3B2-L"
   ]
  },
  {
   "cell_type": "code",
   "execution_count": null,
   "metadata": {},
   "outputs": [],
   "source": [
    "# ionization_cross_section_Q??"
   ]
  },
  {
   "attachments": {},
   "cell_type": "markdown",
   "metadata": {},
   "source": [
    "___\n",
    "\n",
    "### $dE/d\\rho s$, the energy loss function for electrons\n",
    "\n",
    "Bethe (Ref. 10 in the PAP-paper) have a formula for $dE/d\\rho s$, but this is valid for >30 keV. PAP use a formula valid for 1-50 keV:\n",
    "\n",
    "$dE/d\\rho s = -M/J \\cdot 1/f(V)$\n",
    "\n",
    "where\n",
    "\n",
    "\n",
    "- $M = \\sum \\limits_{i} \\frac{C_i Z_i}{A_i}$\n",
    "\n",
    "\n",
    "- $ J = \\exp(\\sum \\limits_{i} \\frac{C_i Z_i}{A_i} \\cdot \\ln(J_i)/M)$\n",
    "    - $J_i = 10^{-3} \\cdot Z_i (10.04 + 8.25 \\exp(\\frac{-Z_i}{11.22}))$\n",
    "\n",
    "\n",
    "- $ f(V) = \\sum \\limits_{k=1}^{3} D_k \\cdot V^{P_k}$\n",
    "\n",
    "    - $ V = \\frac{E}{J}$\n",
    "    - $D_1 = 6.6 \\cdot 10^{-6}$\n",
    "    - $P_1 = 0.78$\n",
    "    - $D_2 = 1.12 \\cdot 10^{-5}(1.35 - 0.45 J^2)$\n",
    "    - $P_2 = 0.1$\n",
    "    - $D_3 = \\frac{2.2 \\cdot 10^{-6}}{J}$\n",
    "    - $P_3 = -(0.5-0.25J)$\n",
    "    \n",
    "i.e.\n",
    "\n",
    "- $f(V) = 6.6 \\cdot 10^{-6}\\cdot V^{0.78} + \\\\ \n",
    "1.12\\cdot 10^{-5}\\cdot (1.35 - 0.45 J^2) \\cdot V^{0.1} + \\\\\n",
    "\\frac{2.2 \\cdot 10^{-6}}{J} \\cdot V^{-(0.5-0.25J)}$\n",
    "\n",
    "\n",
    "Calculate M, then J, then f(V) and then $dE/d\\rho s$\n",
    "\n",
    "\n",
    "- $dE/d\\rho s$ is average energy loss of the electrons, in keV cm^2/g\n",
    "- $Ci$ is the mass concentration of element i in the sample, in wt%\n",
    "- $Zi$ is the atomic number of element i, dimensionless\n",
    "- $Ai$ is the atomic weight of element i, in Da (??)\n",
    "- $J$ is the mean ionization potential of the sample, in keV\n",
    "- $Ji$ is the ionization potential of element i, in keV\n",
    "- $V$ is $E/J$, dimensionless\n",
    "- $M$ is the mean atomic mass of the sample, in Da (??)"
   ]
  },
  {
   "cell_type": "code",
   "execution_count": null,
   "metadata": {},
   "outputs": [],
   "source": [
    "# energy_loss_dE_drhos??"
   ]
  },
  {
   "attachments": {},
   "cell_type": "markdown",
   "metadata": {},
   "source": [
    "___\n",
    "\n",
    "### Analytical solution for $1/S$\n",
    "\n",
    "$ 1/S = \\int \\limits_{E_0}^{E_C} Q_C^A(E) \\frac{dE}{d\\rho s} dE $\n",
    "\n",
    "Using\n",
    "\n",
    "$ T_k = 1 + P_k - m $ in \n",
    "\n",
    "$ 1/S = \\frac{U_0}{V_0 \\cdot M} \\sum \\limits_{k=1}^{3} D_k \\cdot (V_0/U_0)^{P_k} \\cdot ((T_k)U_0^{T_k} \\cdot \\ln(U_0)-U_0^{T_k}+1)/T_k^2 $\n",
    "\n",
    "\n",
    "Which translates to\n",
    "\n",
    "$1/S = \\frac{U_O}{V_0 \\cdot M} \\cdot \\\\\n",
    "(6.6 \\cdot 10^{-6} (V_0/U_0)^{0.78} \\cdot ((1+0.78-m)U_0^{1+0.78-m} \\cdot \\ln(U_0)-U_0^{1+0.78-m}+1)/(1+0.78-m)^2) + \\\\\n",
    "((1.12 \\cdot 10^{-5}(1.35-0.45J^2)) (V_0/U_0)^{0.1} \\cdot ((1+0.1-m)U_0^{1+0.1-m} \\cdot \\ln(U_0)-U_0^{1+0.1-m}+1)/(1+0.1-m)^2) + \\\\\n",
    "(2.2 \\cdot 10^{-6}/J (V_0/U_0)^{(-0.5 +0.25J)} \\cdot ((1+(-0.5 +0.25J)-m)U_0^{1+(-0.5 +0.25J)-m} \\cdot \\ln(U_0)-U_0^{1+(-0.5 +0.25J)-m}+1)/(1+(-0.5 +0.25J)-m)^2)\n",
    "$"
   ]
  },
  {
   "cell_type": "code",
   "execution_count": null,
   "metadata": {},
   "outputs": [],
   "source": [
    "# deceleration_factor_one_over_S??"
   ]
  },
  {
   "cell_type": "code",
   "execution_count": null,
   "metadata": {},
   "outputs": [],
   "source": [
    "# Numbers for 1/S for GaSb, using Ga_La line\n",
    "\n",
    "elements = np.array(['Ga', 'Sb'])\n",
    "line = 'Ga_La'\n",
    "e0 = 15  # keV\n",
    "concentrations = np.array([0.5, 0.5])  # at%\n",
    "\n",
    "e_c = theoretical_energy(line=line)\n",
    "u = e0 / e_c\n",
    "m_small = set_m_small(line=line)\n",
    "\n",
    "array_C, array_A, array_Z = get_C_A_Z_arrays(elements=elements, \n",
    "                                         concentrations=concentrations, concentration_type='at')\n",
    "q = ionization_cross_section_Q(e0=e0, line=line)\n",
    "m = mean_atomic_mass_M(array_C=array_C, array_Z=array_Z, array_A=array_A)\n",
    "j = mean_ionzation_potential_J(array_C=array_C, array_Z=array_Z, array_A=array_A)\n",
    "f_of_v = energy_dependent_terms_f_of_v(e=e0, j=j)\n",
    "dE_drhos = energy_loss_dE_drhos(m=m, j=j, f_of_v=f_of_v)\n",
    "\n",
    "s_inverse = deceleration_factor_one_over_S(u0=u, e_c=e_c, j=j, m_big=m, m_small=m_small)\n",
    "\n",
    "\n",
    "print(f'C [wt%]: {array_C}')\n",
    "print(f'A [Da]: {array_A}')\n",
    "print(f'Z: {array_Z}')\n",
    "print(f'Q: {q:.3e}')\n",
    "print(f'M [Da?]: {m:.3e}')\n",
    "print(f'J [keV]: {j:.3e}')\n",
    "print(f'1/f(V): {1/f_of_v:.3e}')\n",
    "print(f'dE/drhos [?]: {dE_drhos:.3e}')\n",
    "# print(f'dE/drhos2: {dE_drhos2:.3e}')\n",
    "print(f'\\n1/S: {s_inverse:.3e}')\n"
   ]
  },
  {
   "attachments": {},
   "cell_type": "markdown",
   "metadata": {},
   "source": [
    "___\n",
    "## R - the backscatter loss factor \n",
    "\n",
    "Appendix 1 in PAP.\n",
    "\n",
    "\n",
    "$ R = 1- \\bar{\\eta}  \\cdot \\bar{W} \\cdot (1-G(U_0)) $\n",
    "\n",
    "where\n",
    "\n",
    "- $\\bar{\\eta}$ is the mean backscattering coefficient\n",
    "- $ \\bar{\\eta} = 1.75 \\cdot 10^{-3} \\cdot \\bar{Z}_b + 0.37(1-\\exp(-0.015\\bar{Z}_b^{1.3})) $\n",
    "- $\\bar{Z}_b$ is the (weighted) mean atomic number of the backscattered electrons, \n",
    "- $\\bar{Z}_b = (\\sum C_i \\cdot Z_i^{0.5})^2$\n",
    "- $\\bar{W}$ might be the work of the backscattered electrons, but I'm not sure\n",
    "- $ \\bar{W} = \\bar{E}_r/E_0 = 0.595 + \\bar{\\eta}/3.7 + \\bar{\\eta}^{4.55} $\n",
    "\n",
    "- \"The term G(U0) is extracted from the theoretical model of Coulon and Zeller (28).\"\n",
    "\n",
    "    - $ G(U_0) = (U_0 - 1 - (1- \\frac{1}{U_0^{1+q}})/(1+q)) / ((2+q)\\cdot J(U_0))$\n",
    "\n",
    "    - $ J(U_0) = 1 + U_0 \\cdot (\\ln(U_0)-1) $\n",
    "\n",
    "    - $ q = (2 \\bar{W} - 1) / (1 - \\bar{W}) $\n",
    "\n",
    "\n"
   ]
  },
  {
   "cell_type": "code",
   "execution_count": null,
   "metadata": {},
   "outputs": [],
   "source": [
    "# backscattering_factor_R??\n",
    "# # It is a plot of R vs. Z with different U0 values in the plotting notebook."
   ]
  },
  {
   "cell_type": "code",
   "execution_count": null,
   "metadata": {},
   "outputs": [],
   "source": [
    "r = backscattering_factor_R(u0=u, array_C=array_C, array_Z=array_Z)\n",
    "print(f'R: {r:.3e}')"
   ]
  },
  {
   "attachments": {},
   "cell_type": "markdown",
   "metadata": {},
   "source": [
    "## Calculating F\n",
    "\n",
    "$ F = (R/S) \\cdot Q(U) $\n",
    "\n",
    "There is a slight contradictive equation:\n",
    "\n",
    "\"In equation (2) it is stated that $n_A = C_A (N^0/A) \\cdot Q(U) \\cdot F$, and in equation (3) it is stated that $n_A = C_A (N^0/A) (R/S)$.\n",
    "\n",
    "This implies that $(R/S) = Q(U) \\cdot F$.\n",
    "\n",
    "However, equation (13) states that $F = (R/S) \\cdot Q(U)$, which is a contradiction to the previous equations.\"\n",
    "\n",
    "It is assumed that Eq. (13) is correct, but the function allows for the user to set Q to 1.\n"
   ]
  },
  {
   "cell_type": "code",
   "execution_count": null,
   "metadata": {},
   "outputs": [],
   "source": [
    "f = area_F(array_C=array_C, array_Z=array_Z, array_A=array_A, e0=e0, line=line, use_q='divide')\n",
    "f"
   ]
  },
  {
   "cell_type": "code",
   "execution_count": null,
   "metadata": {},
   "outputs": [],
   "source": [
    "# Testing F on the spectra\n",
    "\n",
    "df_whole = pd.read_excel('data/results/ZAF_output.xlsx', sheet_name=0)\n",
    "# drop \"i corr\" and \"k-ratio\"\n",
    "# df = df.drop(columns=['i corr', 'k-ratio'])\n",
    "df = df_whole[['Group', 'Element', 'Line', 'x', 'kV', 'pA', 'PT',\n",
    "       'i', 'at_wt',  'AZ at%', 'i: at%',]].copy()\n",
    "df['i: at%'] = df['i: at%'] * 100\n",
    "df['AZ at%'] = df['AZ at%'] * 100\n",
    "\n",
    "df.head(3)"
   ]
  },
  {
   "cell_type": "code",
   "execution_count": null,
   "metadata": {},
   "outputs": [],
   "source": [
    "df['F'] = 0.0\n",
    "df['F (chi)'] = 0.0\n",
    "df['f (chi)'] = 0.0\n",
    "df['Q'] = 0.0\n",
    "\n",
    "big_F_list = []\n",
    "big_F_of_chi_list = []\n",
    "small_f_list = []\n",
    "q_list = []\n",
    "\n",
    "for i in range(len(df['x'])):\n",
    "    elements = df[df['x'] == df['x'][i]]['Element'].values\n",
    "    at_wt_list = df[df['x'] == df['x'][i]]['at_wt'].values\n",
    "    e0 = df['kV'][i]\n",
    "    wt_concentrations = at2wt(at = [0.5, 0.5], atwt=at_wt_list)\n",
    "    array_C, array_A, array_Z = get_C_A_Z_arrays(elements=elements, concentrations=[0.5, 0.5], concentration_type='at')\n",
    "\n",
    "    m = mean_atomic_mass_M(array_C=array_C, array_Z=array_Z, array_A=array_A)\n",
    "    m_small = set_m_small(line=df['Line'][i])\n",
    "    j = mean_ionzation_potential_J(array_C=array_C, array_Z=array_Z, array_A=array_A)\n",
    "\n",
    "    e_c = theoretical_energy(df['Line'][i])\n",
    "    u = e0 / e_c\n",
    "\n",
    "    q = ionization_cross_section_Q(e0=e0, line = df['Line'][i])\n",
    "    s_inverse = deceleration_factor_one_over_S(u0=u, e_c=e_c, j=j, m_big=m, m_small=m_small)\n",
    "    r = backscattering_factor_R(u0=u, array_C=array_C, array_Z=array_Z)\n",
    "    # big_F_m = area_F(array_C=array_C, array_Z=array_Z, array_A=array_A, e0=df['kV'][i], line=df['Line'][i], use_q='multiply')\n",
    "    big_F = area_F(array_C=array_C, array_Z=array_Z, array_A=array_A, e0=e0, line=df['Line'][i], use_q='divide')\n",
    "\n",
    "    f_small = absorption_correction(e0=e0, line=df['Line'][i], elements=elements, wt_concentrations=wt_concentrations,  use_q='ignore')\n",
    "\n",
    "    big_F_of_chi = f_small * big_F\n",
    "\n",
    "    big_F_list.append(big_F)\n",
    "    big_F_of_chi_list.append(big_F_of_chi)\n",
    "    small_f_list.append(f_small)\n",
    "    q_list.append(q)\n",
    "    \n",
    "\n",
    "df['F'] = big_F_list\n",
    "df['F (chi)'] = big_F_of_chi_list\n",
    "df['f (chi)'] = small_f_list\n",
    "df['Q'] = q_list\n",
    "    "
   ]
  },
  {
   "cell_type": "code",
   "execution_count": null,
   "metadata": {},
   "outputs": [],
   "source": [
    "# df[['Group', 'Line', 'x', 'i', 'i: at%', 'F', 'F (chi)', 'f (chi)', 'Q']].tail(10)"
   ]
  },
  {
   "cell_type": "code",
   "execution_count": null,
   "metadata": {},
   "outputs": [],
   "source": [
    "at_F_list = []\n",
    "at_f_chi_list = []\n",
    "\n",
    "for xi in df['x'].unique(): # for each spectrum\n",
    "    df_xi = df[df['x'] == xi]\n",
    "    elements = df_xi['Element'].values\n",
    "    \n",
    "    i_F = df_xi['i'] / df_xi['F']\n",
    "    # i_f_chi = df_xi['i'] * ( df_xi['f (chi)'] / df_xi['Q'])\n",
    "    i_f_chi = df_xi['i'] / ( df_xi['f (chi)'] )\n",
    "\n",
    "\n",
    "    # wt = i1 / (i1 + i2)\n",
    "    wt_F = (i_F / i_F.sum()).to_list()\n",
    "    wt_f_chi = (i_f_chi / i_f_chi.sum()).to_list()\n",
    "\n",
    "    at_F = calculate_atom_percent(wt_list = wt_F, elements = elements)\n",
    "    at_f_chi = calculate_atom_percent(wt_list = wt_f_chi, elements = elements)\n",
    "\n",
    "    at_F_list += list(at_F*100)\n",
    "    at_f_chi_list += list(at_f_chi*100)\n",
    "\n",
    "\n",
    "df['F at%'] = at_F_list\n",
    "df['f (chi) at%'] = at_f_chi_list\n"
   ]
  },
  {
   "attachments": {},
   "cell_type": "markdown",
   "metadata": {},
   "source": [
    "### For GaSb, the \"Fd\" works the best. That is, $F = R/S / Q$"
   ]
  },
  {
   "cell_type": "code",
   "execution_count": null,
   "metadata": {},
   "outputs": [],
   "source": [
    "df[['Group', 'Line', 'i', 'AZ at%', 'i: at%', 'F', 'F at%', 'f (chi) at%', 'Q']]"
   ]
  },
  {
   "cell_type": "code",
   "execution_count": null,
   "metadata": {},
   "outputs": [],
   "source": [
    "# df_dev = df[['Group', 'Line', 'AZ at%', 'i: at%', 'F at%', 'f (chi) at%']].copy()\n",
    "# for col in ['AZ at%', 'i: at%', 'F at%', 'f (chi) at%']:\n",
    "#     df_dev[col] = abs(50-df_dev[col])\n",
    "# df_dev.describe()"
   ]
  },
  {
   "attachments": {},
   "cell_type": "markdown",
   "metadata": {},
   "source": [
    "# Parameterization of $F(\\chi)$\n",
    "\n",
    "The $\\phi(\\rho z)$ curve is parameterized through: \n",
    "\n",
    "$ F(\\chi) = [\\phi(0) + B/(b + \\chi) - A \\cdot b \\cdot \\epsilon / (b \\cdot (1+\\epsilon) + \\chi)] / (b + \\chi) $\n",
    "\n",
    "The parameters are explained first, then put together in the function at the end.\n"
   ]
  },
  {
   "attachments": {},
   "cell_type": "markdown",
   "metadata": {},
   "source": [
    "##  $\\phi(0)$ - surface ionization\n",
    "\n",
    "$\\phi(0) = 1 + 3.3 (1-1/U_0^r)* \\bar{\\eta}^{1.2} $\n",
    "\n",
    "with $ r = 2 - 2.3 \\bar{\\eta} $\n",
    "\n",
    "(The exponent $\\bar{\\eta}^{1.2}$ kinda looks like $\\bar{\\eta}^{1 \\cdot 2}$, but it is 1.2 that gives the same values as the plot in figure 24.)"
   ]
  },
  {
   "cell_type": "code",
   "execution_count": null,
   "metadata": {},
   "outputs": [],
   "source": [
    "# surface_ionization_phi_zero??"
   ]
  },
  {
   "attachments": {},
   "cell_type": "markdown",
   "metadata": {},
   "source": [
    "## $\\bar{R}$ - mean depth of ionization\n",
    "\n",
    "Equation 28 in PAP\n",
    "\n",
    "$ F / \\bar{R} = 1 + [X \\cdot \\ln(1 + Y \\cdot (1 - 1/U_0^{0.42}))]/\\ln(1 + Y) $\n",
    "\n",
    "where\n",
    "\n",
    "- $ X = 1 + 1.3 \\ln(\\bar{Z}_b) $\n",
    "- $ Y = 0.2 + \\bar{Z}_b/200 $\n",
    "\n",
    "\n",
    "i.e.\n",
    "\n",
    "$ \\bar{R} = F / (1 + [X \\cdot \\ln(1 + Y \\cdot (1 - 1/U_0^{0.42}))]/\\ln(1 + Y)) $\n",
    "\n",
    "#### adjustments for high $\\bar{R}$\n",
    "\n",
    "\"If $ F/\\bar{R} < \\phi(0) $, impose the condition $ \\bar{R} = F/\\phi(0) $\"\n",
    "\n",
    "I guess the above adjustment is for numerical stability, but I'm not sure."
   ]
  },
  {
   "cell_type": "code",
   "execution_count": null,
   "metadata": {},
   "outputs": [],
   "source": [
    "# average_depth_of_ionization_R_bar??"
   ]
  },
  {
   "cell_type": "code",
   "execution_count": null,
   "metadata": {},
   "outputs": [],
   "source": [
    "zb = mean_atomic_number_Zb(array_C=array_C, array_Z=array_Z)\n",
    "r_bar = average_depth_of_ionization_R_bar(big_f=area_F(array_C=array_C, array_Z=array_Z, array_A=array_A, e0=e0, line=line, use_q='divide'), u=u, zb=zb)\n",
    "r_bar"
   ]
  },
  {
   "attachments": {},
   "cell_type": "markdown",
   "metadata": {},
   "source": [
    "## $P$ - initial slope \n",
    "\n",
    "equation 29\n",
    "\n",
    "\n",
    "$ P = g \\cdot h^4 \\cdot F/\\bar{R}^2 $\n",
    "\n",
    "where\n",
    "\n",
    "- $ g = 0.22 \\ln(4 \\bar{Z}_b) \\cdot [1 - 2 \\exp(-\\bar{Z}_b \\frac{U_0 - 1}{15})] $\n",
    "\n",
    "- $ h = 1 - 10(1-\\frac{1}{1+ U_0/10})/\\bar{Z}_b^2 $\n",
    "\n",
    "\n",
    "### Comment to the value $ g \\cdot h^4 $ in the paper\n",
    "\n",
    "\"If necessary, limit the value $ g \\cdot h^4 $ to the value $ 0.9 \\cdot b\\cdot  \\bar{R}^2 \\cdot [b - 2 \\phi(0)/F] $\"\n",
    "\n",
    "I do not think that is necessary."
   ]
  },
  {
   "cell_type": "code",
   "execution_count": null,
   "metadata": {},
   "outputs": [],
   "source": [
    "# initial_slope_P??"
   ]
  },
  {
   "attachments": {},
   "cell_type": "markdown",
   "metadata": {},
   "source": [
    "## Calculate b, a and $\\epsilon$"
   ]
  },
  {
   "attachments": {},
   "cell_type": "markdown",
   "metadata": {},
   "source": [
    "(Wrote b wrong the first time)\n",
    "\n",
    "$ b = \\sqrt{2} \\cdot (1 + \\sqrt{1 - \\bar{R} \\cdot \\phi(0) / F})/\\bar{R} $\n",
    "\n",
    "\n",
    "$ a = [P + b \\cdot (2\\phi(0) - b \\cdot F)] / [b \\cdot F \\cdot (2 - b \\bar{R}) - \\phi(0)] $\n",
    "\n",
    "$ \\epsilon = \\frac{a-b}{b}  $\n",
    "\n",
    "\"If necessary, impose on $\\epsilon$ a minimum absolute value (e.g. $10^{-6}$), and then assume $ a = b \\cdot(1+e) $\" (I do not think that is necessary.)"
   ]
  },
  {
   "cell_type": "code",
   "execution_count": null,
   "metadata": {},
   "outputs": [],
   "source": [
    "# factor_small_b??\n",
    "# factor_small_a??\n",
    "# factor_epsilon??"
   ]
  },
  {
   "attachments": {},
   "cell_type": "markdown",
   "metadata": {},
   "source": [
    "## Calculate B and A\n",
    "\n",
    "$ B = [b^2 \\cdot F \\cdot (1 + \\epsilon) - P - \\phi(0) \\cdot b \\cdot (2+\\epsilon) ] / \\epsilon $\n",
    "\n",
    "$ A = [B/b + \\phi(0) - b \\cdot F] \\cdot \\frac{1+ \\epsilon}{\\epsilon} $"
   ]
  },
  {
   "attachments": {},
   "cell_type": "markdown",
   "metadata": {},
   "source": [
    "## Emergent intensity, through $ F (\\chi) $\n",
    "\n",
    "$ F(\\chi) $ is the emergent intensity, as it takes in the absorption correction.\n",
    "\n",
    "\" The fluorescent yield, the weights of the line of interest and the instrumental factors (solid angle and detection efficiency, incident current) are other factors omitted in eq (19) \" (PAP p. 38)\n",
    "\n",
    "\n",
    "$ I_A \\propto C_A \\cdot Q(U) \\cdot F(\\chi) $\n",
    "\n",
    "where\n",
    "\n",
    "\n",
    "$ \\chi = \\mu _\\rho \\cdot \\cosec(TOA)$**\n",
    "\n",
    "$ F(\\chi) = [\\phi(0) + B/(b + \\chi) - A \\cdot b \\cdot \\epsilon / (b \\cdot (1+\\epsilon) + \\chi)] / (b + \\chi) $\n",
    "\n",
    "or\n",
    "\n",
    "$ F(\\chi) = \\frac{A}{a+ \\chi} + \\frac{\\phi(0) - A}{b + \\chi} + \\frac{B}{(b + \\chi)^2} $\n",
    "\n",
    "which are the same.\n",
    "\n",
    "\n",
    "** Not explicitly stated in the PAP-paper, but assumed based on the reference Love and Scott.\n"
   ]
  },
  {
   "cell_type": "code",
   "execution_count": null,
   "metadata": {},
   "outputs": [],
   "source": [
    "# absorption_correction??"
   ]
  },
  {
   "attachments": {},
   "cell_type": "markdown",
   "metadata": {},
   "source": [
    "# plotting $\\phi (\\rho z)$\n",
    "\n",
    "$ \\phi (\\rho z) = A \\cdot \\exp(- a \\cdot (\\rho z)) + (B \\cdot (\\rho z) + \\phi(0) - A) \\cdot \\exp(- b \\cdot (\\rho z)) $\n",
    "\n",
    "\n",
    "$ I_A \\propto C_A \\cdot Q(U) \\cdot F(\\chi) $\n",
    "\n",
    "where\n",
    "\n",
    "- $ C_A $ is the concentration of element A, in wt%\n",
    "- $ Q(U) $ is the ionization cross section with overvoltage $U$\n",
    "- $ F(\\chi) $ is the emergent intensity"
   ]
  },
  {
   "cell_type": "code",
   "execution_count": null,
   "metadata": {},
   "outputs": [],
   "source": [
    "# parameterization_phi_of_rhoz??"
   ]
  },
  {
   "cell_type": "code",
   "execution_count": null,
   "metadata": {},
   "outputs": [],
   "source": []
  },
  {
   "cell_type": "code",
   "execution_count": null,
   "metadata": {},
   "outputs": [],
   "source": [
    "# ###### snakkes.\n",
    "\n",
    "# ![Image](https://folk.ntnu.no/brynjamm/marathon_dabz.gif)"
   ]
  }
 ],
 "metadata": {
  "kernelspec": {
   "display_name": "hspy",
   "language": "python",
   "name": "python3"
  },
  "language_info": {
   "codemirror_mode": {
    "name": "ipython",
    "version": 3
   },
   "file_extension": ".py",
   "mimetype": "text/x-python",
   "name": "python",
   "nbconvert_exporter": "python",
   "pygments_lexer": "ipython3",
   "version": "3.8.16"
  },
  "orig_nbformat": 4
 },
 "nbformat": 4,
 "nbformat_minor": 2
}
